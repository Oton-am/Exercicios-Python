{
 "cells": [
  {
   "attachments": {},
   "cell_type": "markdown",
   "metadata": {},
   "source": [
    "## Estrutura de Repetiçãõ [while, for]"
   ]
  },
  {
   "attachments": {},
   "cell_type": "markdown",
   "metadata": {},
   "source": [
    "1. Faça um programa que peça uma nota, entre zero e dez. Mostre uma mensagem caso o valor seja inválido e continue pedindo até que o usuário informe um valor válido."
   ]
  },
  {
   "cell_type": "code",
   "execution_count": null,
   "metadata": {},
   "outputs": [],
   "source": [
    "nota = int(input('Digite uma nota de 0 a 10: '))\n",
    "\n",
    "while nota not in range(0,11):\n",
    "    nota = int(input('Digite uma nota de 0 a 10: '))\n",
    "else:\n",
    "  print(nota)"
   ]
  },
  {
   "attachments": {},
   "cell_type": "markdown",
   "metadata": {},
   "source": [
    "2. Faça um programa que leia um nome de usuário e a sua senha e não aceite a senha igual ao nome do usuário, mostrando uma mensagem de erro e voltando a pedir as informações."
   ]
  },
  {
   "cell_type": "code",
   "execution_count": null,
   "metadata": {},
   "outputs": [],
   "source": [
    "nomeUsuario = input('Digite o seu nome: ')\n",
    "senhaUsuario = input(\"Digite a senha: \")\n",
    "\n",
    "while nomeUsuario == senhaUsuario:\n",
    "  print('A senha deve ser diferente do seu nome.')\n",
    "  nomeUsuario = input('Digite o seu nome: ')\n",
    "  senhaUsuario = input(\"Digite a senha: \")\n",
    "else:\n",
    "  print(f' Nome do usuario: {nomeUsuario}\\n senha: {senhaUsuario}')"
   ]
  },
  {
   "attachments": {},
   "cell_type": "markdown",
   "metadata": {},
   "source": [
    "3. Faça um programa que leia e valide as seguintes informações:\n",
    "- Nome: maior que 3 caracteres;\n",
    "- Idade: entre 0 e 150;\n",
    "- Salário: maior que zero;\n",
    "- Sexo: 'f' ou 'm';\n",
    "- Estado Civil: 's', 'c', 'v', 'd';"
   ]
  },
  {
   "cell_type": "code",
   "execution_count": null,
   "metadata": {},
   "outputs": [],
   "source": [
    "# Inputs do usuario\n",
    "nome = input('Digite seu nome: ')\n",
    "while len(nome)<3:\n",
    "  nome = input('Digite seu nome: ')\n",
    "else:\n",
    "  idade = int(input('Digite a sua idade: '))\n",
    "  while idade not in range(0,150):\n",
    "    idade = int(input('Digite a sua idade: '))\n",
    "  else:\n",
    "    salario = float(input('Digite o valor do seu salário: '))\n",
    "    while salario<0:\n",
    "      salario = float(input('Digite o valor do seu salário: '))\n",
    "    else:\n",
    "      print('''Informe qual seu sexo conforme a tabela abaixo:\n",
    "      [f] feminino\n",
    "      [m] masculino\n",
    "      ''')\n",
    "      sexo = input('Informe seu sexo: ')\n",
    "      while sexo.lower() != 'f' and sexo.lower() !='feminino' and sexo.lower() !='m' and sexo.lower() !='masculino':\n",
    "        print('''Informe qual seu sexo conforme a tabela abaixo:\n",
    "        [f] feminino\n",
    "        [m] masculino\n",
    "        ''')\n",
    "        sexo = input()\n",
    "      else:\n",
    "        estadoCivil = input('''Informe qual seu estado civil conforme a tabela abaixo:\n",
    "        [s] solteiro\n",
    "        [c] casado\n",
    "        [v] viuvo\n",
    "        [d] divorciado\n",
    "        ''')\n",
    "        while estadoCivil!='s' and estadoCivil!='c' and estadoCivil !='v' and estadoCivil!='d':\n",
    "          estadoCivil = input('''Informe qual seu estado civil conforme a tabela abaixo:\n",
    "          [s] solteiro\n",
    "          [c] casado\n",
    "          [v] viuvo\n",
    "          [d] divorciado\n",
    "          ''')\n",
    "\n",
    "print(nome, idade, salario, sexo, estadoCivil)"
   ]
  },
  {
   "attachments": {},
   "cell_type": "markdown",
   "metadata": {},
   "source": [
    "4. Supondo que a população de um país A seja da ordem de 80000 habitantes com uma taxa anual de crescimento de 3% e que a população de B seja 200000 habitantes com uma taxa de crescimento de 1.5%. Faça um programa que calcule e escreva o número de anos necessários para que a população do país A ultrapasse ou iguale a população do país B, mantidas as taxas de crescimento."
   ]
  },
  {
   "cell_type": "code",
   "execution_count": null,
   "metadata": {},
   "outputs": [],
   "source": [
    "populacaoA = 80000\n",
    "taxaCrescimentoA = 3/100\n",
    "populacaoB = 200000\n",
    "taxaCrescimentoB = 1.5/100\n",
    "print(taxaCrescimentoB)\n",
    "anos = 0\n",
    "\n",
    "while populacaoA <= populacaoB:\n",
    "  populacaoA = round(populacaoA + (populacaoA*taxaCrescimentoA))\n",
    "  populacaoB = round(populacaoB + (populacaoB*taxaCrescimentoB))\n",
    "  anos+=1\n",
    "else:\n",
    "  print(f'Depois de {anos} anos, com o total de habitantes do país A sera igual á {populacaoA} e no país B igua á {populacaoB}.')"
   ]
  },
  {
   "attachments": {},
   "cell_type": "markdown",
   "metadata": {},
   "source": [
    "5. Altere o programa anterior permitindo ao usuário informar as populações e as taxas de crescimento iniciais. Valide a entrada e permita repetir a operação."
   ]
  },
  {
   "cell_type": "code",
   "execution_count": null,
   "metadata": {},
   "outputs": [],
   "source": [
    "populacaoA = int(input('Digite o total de habitantes do país A: '))\n",
    "taxaCrescimentoA = float(input('Digite a taxa de crescimento da população do país A:  '))\n",
    "populacaoB = int(input('Digite o total de habitantes do país B: '))\n",
    "taxaCrescimentoB = float(input('Digite a taxa de crescimento da população do país B:  '))\n",
    "anos = 0\n",
    "\n",
    "while populacaoA <= populacaoB:\n",
    "  populacaoA = round(populacaoA + (populacaoA*taxaCrescimentoA))\n",
    "  populacaoB = round(populacaoB + (populacaoB*taxaCrescimentoB))\n",
    "  anos+=1\n",
    "else:\n",
    "  print(f'Depois de {anos} anos, com o total de habitantes do país A sera igual á {populacaoA} e no país B igua á {populacaoB}.')\n",
    "  repet = input('''Deseja repetir a operação novamente:\n",
    "  [S] sim\n",
    "  [N] não\n",
    "  ''')\n",
    "  while repet.lower == 's' and repet.lower == 'sim':\n",
    "    populacaoA = int(input('Digite o total de habitantes do país A: '))\n",
    "    taxaCrescimentoA = float(input('Digite a taxa de crescimento da população do país A:  '))\n",
    "    populacaoB = int(input('Digite o total de habitantes do país B: '))\n",
    "    taxaCrescimentoB = float(input('Digite a taxa de crescimento da população do país B:  '))\n",
    "    anos = 0\n",
    "\n",
    "    while populacaoA <= populacaoB:\n",
    "      populacaoA = round(populacaoA + (populacaoA*taxaCrescimentoA))\n",
    "      populacaoB = round(populacaoB + (populacaoB*taxaCrescimentoB))\n",
    "      anos+=1\n",
    "    else:\n",
    "      print(f'Depois de {anos} anos, com o total de habitantes do país A sera igual á {populacaoA} e no país B igua á {populacaoB}.')\n",
    "      repet = input('''Deseja repetir a operação novamente:\n",
    "      [S] sim\n",
    "      [N] não\n",
    "      ''')\n",
    "  else:\n",
    "    print('Fim da execução.')"
   ]
  },
  {
   "attachments": {},
   "cell_type": "markdown",
   "metadata": {},
   "source": [
    "6. Faça um programa que imprima na tela os números de 1 a 20, um abaixo do outro. Depois modifique o programa para que ele mostre os números um ao lado do outro."
   ]
  },
  {
   "cell_type": "code",
   "execution_count": null,
   "metadata": {},
   "outputs": [],
   "source": [
    "listNum = []\n",
    "for i in range(0,21):\n",
    "  print(i)\n",
    "  listNum.append(i)\n",
    "print(listNum)"
   ]
  },
  {
   "attachments": {},
   "cell_type": "markdown",
   "metadata": {},
   "source": [
    "7. Faça um programa que leia 5 números e informe o maior número."
   ]
  },
  {
   "cell_type": "code",
   "execution_count": null,
   "metadata": {},
   "outputs": [],
   "source": [
    "nums = []\n",
    "num1 = float(input('Digite o primeiro número: '))\n",
    "num2 = float(input('Digite o segundo número: '))\n",
    "num3 = float(input('Digite o terceiro número: '))\n",
    "num4 = float(input('Digite o quarto número: '))\n",
    "num5 = float(input('Digite o quinto número: '))\n",
    "\n",
    "nums.append(num1)\n",
    "nums.append(num2)\n",
    "nums.append(num3)\n",
    "nums.append(num4)\n",
    "nums.append(num5)\n",
    "\n",
    "max(nums)"
   ]
  },
  {
   "attachments": {},
   "cell_type": "markdown",
   "metadata": {},
   "source": [
    "8. Faça um programa que leia 5 números e informe a soma e a média dos números."
   ]
  },
  {
   "cell_type": "code",
   "execution_count": null,
   "metadata": {},
   "outputs": [],
   "source": [
    "numsList = []\n",
    "num1 = float(input('Digite o primeiro número: '))\n",
    "num2 = float(input('Digite o segundo número: '))\n",
    "num3 = float(input('Digite o terceiro número: '))\n",
    "num4 = float(input('Digite o quarto número: '))\n",
    "num5 = float(input('Digite o quinto número: '))\n",
    "\n",
    "numsList.append(num1)\n",
    "numsList.append(num2)\n",
    "numsList.append(num3)\n",
    "numsList.append(num4)\n",
    "numsList.append(num5)\n",
    "\n",
    "soma = num1 + num2 + num3 + num4 + num5\n",
    "media = soma/len(numsList)\n",
    "\n",
    "print(f'Soma = {soma}, Média = {media}')"
   ]
  },
  {
   "attachments": {},
   "cell_type": "markdown",
   "metadata": {},
   "source": [
    "9. Faça um programa que imprima na tela apenas os números ímpares entre 1 e 50."
   ]
  },
  {
   "cell_type": "code",
   "execution_count": null,
   "metadata": {},
   "outputs": [],
   "source": [
    "for i in range(1,51):\n",
    "  if i%2!=0:\n",
    "    print(i)"
   ]
  },
  {
   "attachments": {},
   "cell_type": "markdown",
   "metadata": {},
   "source": [
    "10. Faça um programa que receba dois números inteiros e gere os números inteiros que estão no intervalo compreendido por eles."
   ]
  },
  {
   "cell_type": "code",
   "execution_count": null,
   "metadata": {},
   "outputs": [],
   "source": [
    "num1 = int(input('Digite o primeiro número: '))\n",
    "num2 = int(input('Digite o segundo número: '))\n",
    "\n",
    "for i in range(num1+1,num2):\n",
    "  print(i)"
   ]
  },
  {
   "attachments": {},
   "cell_type": "markdown",
   "metadata": {},
   "source": [
    "11. Altere o programa anterior para mostrar no final a soma dos números."
   ]
  },
  {
   "cell_type": "code",
   "execution_count": null,
   "metadata": {},
   "outputs": [],
   "source": [
    "num1 = int(input('Digite o primeiro número: '))\n",
    "num2 = int(input('Digite o segundo número: '))\n",
    "\n",
    "numeros = []\n",
    "for i in range(num1+1,num2):\n",
    "  numeros.append(i)\n",
    "\n",
    "print(numeros)\n",
    "print(f'A soma de {numeros} é {sum(numeros)}')"
   ]
  },
  {
   "attachments": {},
   "cell_type": "markdown",
   "metadata": {},
   "source": [
    "12. Desenvolva um gerador de tabuada, capaz de gerar a tabuada de qualquer número inteiro entre 1 a 10. O usuário deve informar de qual numero ele deseja ver a tabuada. A saída deve ser conforme o exemplo abaixo:"
   ]
  },
  {
   "attachments": {},
   "cell_type": "markdown",
   "metadata": {},
   "source": [
    "- Usando for"
   ]
  },
  {
   "cell_type": "code",
   "execution_count": null,
   "metadata": {},
   "outputs": [],
   "source": [
    "numUsuario = int(input('Digite o número entre 1 e 10 que você deseja ver a tabuada: '))\n",
    "\n",
    "numero = [1, 2, 3, 4, 5, 6, 7, 8, 9, 10]\n",
    "\n",
    "for num in numero:\n",
    "  print(f'{numUsuario} x {num} = {numUsuario*num}')"
   ]
  },
  {
   "attachments": {},
   "cell_type": "markdown",
   "metadata": {},
   "source": [
    "- Usando while"
   ]
  },
  {
   "cell_type": "code",
   "execution_count": null,
   "metadata": {},
   "outputs": [],
   "source": [
    "numUsuario = int(input('Digite o número entre 1 e 10 que você deseja ver a tabuada: '))\n",
    "num=0\n",
    "\n",
    "while num<=10:\n",
    "  print(f'{numUsuario} x {num} = {numUsuario*num}')\n",
    "  num+=1"
   ]
  },
  {
   "attachments": {},
   "cell_type": "markdown",
   "metadata": {},
   "source": [
    "13. Faça um programa que peça dois números, base e expoente, calcule e mostre o primeiro número elevado ao segundo número. Não utilize a função de potência da linguagem."
   ]
  },
  {
   "cell_type": "code",
   "execution_count": null,
   "metadata": {},
   "outputs": [],
   "source": [
    "base = int(input('Digite o valor da base: '))\n",
    "expoente = int(input('Digite o valor do expoente: '))\n",
    "\n",
    "print(f'{base} x {expoente} = {base**expoente}')"
   ]
  },
  {
   "attachments": {},
   "cell_type": "markdown",
   "metadata": {},
   "source": [
    "14. Faça um programa que peça 10 números inteiros, calcule e mostre a quantidade de números pares e a quantidade de números impares."
   ]
  },
  {
   "cell_type": "code",
   "execution_count": null,
   "metadata": {},
   "outputs": [],
   "source": [
    "numsList = []\n",
    "num1 = float(input('Digite o primeiro número: '))\n",
    "num2 = float(input('Digite o segundo número: '))\n",
    "num3 = float(input('Digite o terceiro número: '))\n",
    "num4 = float(input('Digite o quarto número: '))\n",
    "num5 = float(input('Digite o quinto número: '))\n",
    "num6 = float(input('Digite o sexto número: '))\n",
    "num7 = float(input('Digite o sétimo número: '))\n",
    "num8 = float(input('Digite o oitavo número: '))\n",
    "num9 = float(input('Digite o nono número: '))\n",
    "num10 = float(input('Digite o décimo número: '))\n",
    "\n",
    "numsList.append(num1)\n",
    "numsList.append(num2)\n",
    "numsList.append(num3)\n",
    "numsList.append(num4)\n",
    "numsList.append(num5)\n",
    "numsList.append(num6)\n",
    "numsList.append(num7)\n",
    "numsList.append(num8)\n",
    "numsList.append(num9)\n",
    "numsList.append(num10)\n",
    "\n",
    "qntPares = 0\n",
    "qntImpares = 0\n",
    "for num in numsList:\n",
    "  if num%2==0:\n",
    "    qntPares+=1\n",
    "  else:\n",
    "    qntImpares+=1\n",
    "\n",
    "print(f'Quantidade de nº pares = {qntPares}, Quantidade de nº impares = {qntImpares}')"
   ]
  },
  {
   "attachments": {},
   "cell_type": "markdown",
   "metadata": {},
   "source": [
    "15. A série de Fibonacci é formada pela seqüência 1,1,2,3,5,8,13,21,34,55,... Faça um programa capaz de gerar a série até o n−ésimo termo."
   ]
  },
  {
   "cell_type": "code",
   "execution_count": null,
   "metadata": {},
   "outputs": [],
   "source": [
    "nesimoTermo = int(input('Digite o n−ésimo termo da série de Fibonacci: '))\n",
    "\n",
    "fibonacci = [1,1]\n",
    "i=2\n",
    "while i<=nesimoTermo:\n",
    "  print(f'i:', i)\n",
    "  fibonacci.append(fibonacci[i-1]+fibonacci[i-2])\n",
    "  print(f'fibonacci:', fibonacci)\n",
    "  i+=1\n",
    "  print(f'i:', i)\n",
    "print(fibonacci)"
   ]
  },
  {
   "attachments": {},
   "cell_type": "markdown",
   "metadata": {},
   "source": [
    "16. A série de Fibonacci é formada pela seqüência 0,1,1,2,3,5,8,13,21,34,55,... Faça um programa que gere a série até que o valor seja maior que 500."
   ]
  },
  {
   "cell_type": "code",
   "execution_count": null,
   "metadata": {},
   "outputs": [],
   "source": []
  },
  {
   "attachments": {},
   "cell_type": "markdown",
   "metadata": {},
   "source": [
    "17. Faça um programa que calcule o fatorial de um número inteiro fornecido pelo usuário. Ex.: 5!=5.4.3.2.1=120"
   ]
  },
  {
   "cell_type": "code",
   "execution_count": null,
   "metadata": {},
   "outputs": [],
   "source": [
    "num = int(input('Digite um número inteiro para ver o fatorial dele: '))\n",
    "\n",
    "subtrair = 0\n",
    "listMultiplicador = []\n",
    "\n",
    "while subtrair<num:\n",
    "  fatorial = num - subtrair\n",
    "  listMultiplicador.append(fatorial)\n",
    "  subtrair+=1\n",
    "\n",
    "print(listMultiplicador)\n",
    "\n",
    "multiplicador = 1\n",
    "for numero in listMultiplicador:\n",
    "  multiplicador *= numero\n",
    "\n",
    "print(multiplicador)"
   ]
  },
  {
   "attachments": {},
   "cell_type": "markdown",
   "metadata": {},
   "source": [
    "18. Faça um programa que, dado um conjunto de N números, determine o menor valor, o maior valor e a soma dos valores."
   ]
  },
  {
   "cell_type": "code",
   "execution_count": null,
   "metadata": {},
   "outputs": [],
   "source": []
  },
  {
   "attachments": {},
   "cell_type": "markdown",
   "metadata": {},
   "source": [
    "19. Altere o programa anterior para que ele aceite apenas números entre 0 e 1000."
   ]
  },
  {
   "cell_type": "code",
   "execution_count": null,
   "metadata": {},
   "outputs": [],
   "source": []
  },
  {
   "attachments": {},
   "cell_type": "markdown",
   "metadata": {},
   "source": [
    "20. Altere o programa de cálculo do fatorial, permitindo ao usuário calcular o fatorial várias vezes e limitando o fatorial a números inteiros positivos e menores que 16."
   ]
  },
  {
   "cell_type": "code",
   "execution_count": null,
   "metadata": {},
   "outputs": [],
   "source": [
    "num = int(input('Digite um número inteiro entre 0 e 16 para ver seu fatorial: '))\n",
    "# verifica se o input do usuario esta fora do range determinado\n",
    "while num not in range(1,17):\n",
    "  num = int(input('Digite um número inteiro entre 0 e 16 para ver seu fatorial: '))\n",
    "else: # caso esteja dentro, executa o codigo\n",
    "  subtrair = 0\n",
    "  listMultiplicador = []\n",
    "\n",
    "  while subtrair<num:\n",
    "    fatorial = num - subtrair\n",
    "    listMultiplicador.append(fatorial)\n",
    "    subtrair+=1\n",
    "\n",
    "  print(listMultiplicador)\n",
    "\n",
    "  multiplicador = 1\n",
    "  for numero in listMultiplicador:\n",
    "    multiplicador *= numero\n",
    "\n",
    "  print(multiplicador)\n",
    "  repet = input(\"\"\"Deseja fazer uma nova operação:\n",
    "      [s] sim\n",
    "      [n] não:\n",
    "    \"\"\")\n",
    "\n",
    "  while repet.lower() == 's' or repet.lower() == 'sim':\n",
    "    num = int(input('Digite um número inteiro entre 0 e 16 para ver seu fatorial: '))\n",
    "    # verifica se o input do usuario esta fora do range determinado\n",
    "    while num not in range(1,17):\n",
    "      num = int(input('Digite um número inteiro entre 0 e 16 para ver seu fatorial: '))\n",
    "    else: # caso esteja dentro, executa o codigo\n",
    "      subtrair = 0\n",
    "      listMultiplicador = []\n",
    "\n",
    "      while subtrair<num:\n",
    "        fatorial = num - subtrair\n",
    "        listMultiplicador.append(fatorial)\n",
    "        subtrair+=1\n",
    "\n",
    "      print(listMultiplicador)\n",
    "\n",
    "      multiplicador = 1\n",
    "      for numero in listMultiplicador:\n",
    "        multiplicador *= numero\n",
    "\n",
    "      print(multiplicador)\n",
    "      repet = input(\"\"\"Deseja fazer uma nova operação:\n",
    "      [s] sim\n",
    "      [n] não:\n",
    "      \"\"\")\n",
    "  else:\n",
    "    print(\"Fim da execução do programa.\")"
   ]
  },
  {
   "attachments": {},
   "cell_type": "markdown",
   "metadata": {},
   "source": [
    "21. Faça um programa que peça um número inteiro e determine se ele é ou não um número primo. Um número primo é aquele que é divisível somente por ele mesmo e por 1."
   ]
  },
  {
   "cell_type": "code",
   "execution_count": null,
   "metadata": {},
   "outputs": [],
   "source": []
  },
  {
   "attachments": {},
   "cell_type": "markdown",
   "metadata": {},
   "source": [
    "22. Faça um programa que peça um número inteiro e determine se ele é ou não um número primo. Um número primo é aquele que é divisível somente por ele mesmo e por 1."
   ]
  },
  {
   "cell_type": "code",
   "execution_count": null,
   "metadata": {},
   "outputs": [],
   "source": []
  },
  {
   "attachments": {},
   "cell_type": "markdown",
   "metadata": {},
   "source": [
    "23. Faça um programa que mostre todos os primos entre 1 e N sendo N um número inteiro fornecido pelo usuário. O programa deverá mostrar também o número de divisões que ele executou para encontrar os números primos. Serão avaliados o funcionamento, o estilo e o número de testes (divisões) executados."
   ]
  },
  {
   "cell_type": "code",
   "execution_count": null,
   "metadata": {},
   "outputs": [],
   "source": []
  },
  {
   "attachments": {},
   "cell_type": "markdown",
   "metadata": {},
   "source": [
    "24. Faça um programa que calcule o mostre a média aritmética de N notas."
   ]
  },
  {
   "cell_type": "code",
   "execution_count": null,
   "metadata": {},
   "outputs": [],
   "source": []
  },
  {
   "attachments": {},
   "cell_type": "markdown",
   "metadata": {},
   "source": [
    "25. Faça um programa que peça para n pessoas a sua idade, ao final o programa devera verificar se a média de idade da turma varia entre 0 e 25,26 e 60 e maior que 60; e então, dizer se a turma é jovem, adulta ou idosa, conforme a média calculada."
   ]
  },
  {
   "cell_type": "code",
   "execution_count": null,
   "metadata": {},
   "outputs": [],
   "source": []
  },
  {
   "attachments": {},
   "cell_type": "markdown",
   "metadata": {},
   "source": [
    "26. Numa eleição existem três candidatos. Faça um programa que peça o número total de eleitores. Peça para cada eleitor votar e ao final mostrar o número de votos de cada candidato."
   ]
  },
  {
   "cell_type": "code",
   "execution_count": null,
   "metadata": {},
   "outputs": [],
   "source": []
  },
  {
   "attachments": {},
   "cell_type": "markdown",
   "metadata": {},
   "source": [
    "27. Faça um programa que calcule o número médio de alunos por turma. Para isto, peça a quantidade de turmas e a quantidade de alunos para cada turma. As turmas não podem ter mais de 40 alunos."
   ]
  },
  {
   "cell_type": "code",
   "execution_count": null,
   "metadata": {},
   "outputs": [],
   "source": []
  },
  {
   "attachments": {},
   "cell_type": "markdown",
   "metadata": {},
   "source": [
    "28. Faça um programa que calcule o valor total investido por um colecionador em sua coleção de CDs e o valor médio gasto em cada um deles. O usuário deverá informar a quantidade de CDs e o valor para em cada um."
   ]
  },
  {
   "cell_type": "code",
   "execution_count": null,
   "metadata": {},
   "outputs": [],
   "source": []
  }
 ],
 "metadata": {
  "kernelspec": {
   "display_name": "Python 3",
   "language": "python",
   "name": "python3"
  },
  "language_info": {
   "name": "python",
   "version": "3.11.1 (tags/v3.11.1:a7a450f, Dec  6 2022, 19:58:39) [MSC v.1934 64 bit (AMD64)]"
  },
  "orig_nbformat": 4,
  "vscode": {
   "interpreter": {
    "hash": "81d28a13152a293fbc1e1ce9638b10606ffeb9163ab1c409c13da17243cf3afb"
   }
  }
 },
 "nbformat": 4,
 "nbformat_minor": 2
}
