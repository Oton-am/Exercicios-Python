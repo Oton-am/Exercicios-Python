{
 "cells": [
  {
   "attachments": {},
   "cell_type": "markdown",
   "metadata": {},
   "source": [
    "## Estrutura de Repetiçãõ [while, for]"
   ]
  },
  {
   "attachments": {},
   "cell_type": "markdown",
   "metadata": {},
   "source": [
    "1. Faça um programa que peça uma nota, entre zero e dez. Mostre uma mensagem caso o valor seja inválido e continue pedindo até que o usuário informe um valor válido."
   ]
  },
  {
   "cell_type": "code",
   "execution_count": null,
   "metadata": {},
   "outputs": [],
   "source": [
    "nota = int(input('Digite uma nota de 0 a 10: '))\n",
    "\n",
    "while nota not in range(0,11):\n",
    "    nota = int(input('Digite uma nota de 0 a 10: '))\n",
    "else:\n",
    "  print(nota)"
   ]
  },
  {
   "attachments": {},
   "cell_type": "markdown",
   "metadata": {},
   "source": [
    "2. Faça um programa que leia um nome de usuário e a sua senha e não aceite a senha igual ao nome do usuário, mostrando uma mensagem de erro e voltando a pedir as informações."
   ]
  },
  {
   "cell_type": "code",
   "execution_count": null,
   "metadata": {},
   "outputs": [],
   "source": [
    "nomeUsuario = input('Digite o seu nome: ')\n",
    "senhaUsuario = input(\"Digite a senha: \")\n",
    "\n",
    "while nomeUsuario == senhaUsuario:\n",
    "  print('A senha deve ser diferente do seu nome.')\n",
    "  nomeUsuario = input('Digite o seu nome: ')\n",
    "  senhaUsuario = input(\"Digite a senha: \")\n",
    "else:\n",
    "  print(f' Nome do usuario: {nomeUsuario}\\n senha: {senhaUsuario}')"
   ]
  },
  {
   "attachments": {},
   "cell_type": "markdown",
   "metadata": {},
   "source": [
    "3. Faça um programa que leia e valide as seguintes informações:\n",
    "- Nome: maior que 3 caracteres;\n",
    "- Idade: entre 0 e 150;\n",
    "- Salário: maior que zero;\n",
    "- Sexo: 'f' ou 'm';\n",
    "- Estado Civil: 's', 'c', 'v', 'd';"
   ]
  },
  {
   "cell_type": "code",
   "execution_count": null,
   "metadata": {},
   "outputs": [],
   "source": [
    "# Inputs do usuario\n",
    "nome = input('Digite seu nome: ')\n",
    "while len(nome)<3:\n",
    "  nome = input('Digite seu nome: ')\n",
    "else:\n",
    "  idade = int(input('Digite a sua idade: '))\n",
    "  while idade not in range(0,150):\n",
    "    idade = int(input('Digite a sua idade: '))\n",
    "  else:\n",
    "    salario = float(input('Digite o valor do seu salário: '))\n",
    "    while salario<0:\n",
    "      salario = float(input('Digite o valor do seu salário: '))\n",
    "    else:\n",
    "      print('''Informe qual seu sexo conforme a tabela abaixo:\n",
    "      [f] feminino\n",
    "      [m] masculino\n",
    "      ''')\n",
    "      sexo = input('Informe seu sexo: ')\n",
    "      while sexo.lower() != 'f' and sexo.lower() !='feminino' and sexo.lower() !='m' and sexo.lower() !='masculino':\n",
    "        print('''Informe qual seu sexo conforme a tabela abaixo:\n",
    "        [f] feminino\n",
    "        [m] masculino\n",
    "        ''')\n",
    "        sexo = input()\n",
    "      else:\n",
    "        estadoCivil = input('''Informe qual seu estado civil conforme a tabela abaixo:\n",
    "        [s] solteiro\n",
    "        [c] casado\n",
    "        [v] viuvo\n",
    "        [d] divorciado\n",
    "        ''')\n",
    "        while estadoCivil!='s' and estadoCivil!='c' and estadoCivil !='v' and estadoCivil!='d':\n",
    "          estadoCivil = input('''Informe qual seu estado civil conforme a tabela abaixo:\n",
    "          [s] solteiro\n",
    "          [c] casado\n",
    "          [v] viuvo\n",
    "          [d] divorciado\n",
    "          ''')\n",
    "\n",
    "print(nome, idade, salario, sexo, estadoCivil)"
   ]
  },
  {
   "attachments": {},
   "cell_type": "markdown",
   "metadata": {},
   "source": [
    "4. Supondo que a população de um país A seja da ordem de 80000 habitantes com uma taxa anual de crescimento de 3% e que a população de B seja 200000 habitantes com uma taxa de crescimento de 1.5%. Faça um programa que calcule e escreva o número de anos necessários para que a população do país A ultrapasse ou iguale a população do país B, mantidas as taxas de crescimento."
   ]
  },
  {
   "cell_type": "code",
   "execution_count": null,
   "metadata": {},
   "outputs": [],
   "source": [
    "populacaoA = 80000\n",
    "taxaCrescimentoA = 3/100\n",
    "populacaoB = 200000\n",
    "taxaCrescimentoB = 1.5/100\n",
    "print(taxaCrescimentoB)\n",
    "anos = 0\n",
    "\n",
    "while populacaoA <= populacaoB:\n",
    "  populacaoA = round(populacaoA + (populacaoA*taxaCrescimentoA))\n",
    "  populacaoB = round(populacaoB + (populacaoB*taxaCrescimentoB))\n",
    "  anos+=1\n",
    "else:\n",
    "  print(f'Depois de {anos} anos, com o total de habitantes do país A sera igual á {populacaoA} e no país B igua á {populacaoB}.')"
   ]
  },
  {
   "attachments": {},
   "cell_type": "markdown",
   "metadata": {},
   "source": [
    "5. Altere o programa anterior permitindo ao usuário informar as populações e as taxas de crescimento iniciais. Valide a entrada e permita repetir a operação."
   ]
  },
  {
   "cell_type": "code",
   "execution_count": null,
   "metadata": {},
   "outputs": [],
   "source": [
    "populacaoA = int(input('Digite o total de habitantes do país A: '))\n",
    "taxaCrescimentoA = float(input('Digite a taxa de crescimento da população do país A:  '))\n",
    "populacaoB = int(input('Digite o total de habitantes do país B: '))\n",
    "taxaCrescimentoB = float(input('Digite a taxa de crescimento da população do país B:  '))\n",
    "anos = 0\n",
    "\n",
    "while populacaoA <= populacaoB:\n",
    "  populacaoA = round(populacaoA + (populacaoA*taxaCrescimentoA))\n",
    "  populacaoB = round(populacaoB + (populacaoB*taxaCrescimentoB))\n",
    "  anos+=1\n",
    "else:\n",
    "  print(f'Depois de {anos} anos, com o total de habitantes do país A sera igual á {populacaoA} e no país B igua á {populacaoB}.')\n",
    "  repet = input('''Deseja repetir a operação novamente:\n",
    "  [S] sim\n",
    "  [N] não\n",
    "  ''')\n",
    "  while repet.lower == 's' and repet.lower == 'sim':\n",
    "    populacaoA = int(input('Digite o total de habitantes do país A: '))\n",
    "    taxaCrescimentoA = float(input('Digite a taxa de crescimento da população do país A:  '))\n",
    "    populacaoB = int(input('Digite o total de habitantes do país B: '))\n",
    "    taxaCrescimentoB = float(input('Digite a taxa de crescimento da população do país B:  '))\n",
    "    anos = 0\n",
    "\n",
    "    while populacaoA <= populacaoB:\n",
    "      populacaoA = round(populacaoA + (populacaoA*taxaCrescimentoA))\n",
    "      populacaoB = round(populacaoB + (populacaoB*taxaCrescimentoB))\n",
    "      anos+=1\n",
    "    else:\n",
    "      print(f'Depois de {anos} anos, com o total de habitantes do país A sera igual á {populacaoA} e no país B igua á {populacaoB}.')\n",
    "      repet = input('''Deseja repetir a operação novamente:\n",
    "      [S] sim\n",
    "      [N] não\n",
    "      ''')\n",
    "  else:\n",
    "    print('Fim da execução.')"
   ]
  },
  {
   "attachments": {},
   "cell_type": "markdown",
   "metadata": {},
   "source": [
    "6. Faça um programa que imprima na tela os números de 1 a 20, um abaixo do outro. Depois modifique o programa para que ele mostre os números um ao lado do outro."
   ]
  },
  {
   "cell_type": "code",
   "execution_count": null,
   "metadata": {},
   "outputs": [],
   "source": [
    "listNum = []\n",
    "for i in range(0,21):\n",
    "  print(i)\n",
    "  listNum.append(i)\n",
    "print(listNum)"
   ]
  },
  {
   "attachments": {},
   "cell_type": "markdown",
   "metadata": {},
   "source": [
    "7. Faça um programa que leia 5 números e informe o maior número."
   ]
  },
  {
   "cell_type": "code",
   "execution_count": null,
   "metadata": {},
   "outputs": [],
   "source": [
    "nums = []\n",
    "num1 = float(input('Digite o primeiro número: '))\n",
    "num2 = float(input('Digite o segundo número: '))\n",
    "num3 = float(input('Digite o terceiro número: '))\n",
    "num4 = float(input('Digite o quarto número: '))\n",
    "num5 = float(input('Digite o quinto número: '))\n",
    "\n",
    "nums.append(num1)\n",
    "nums.append(num2)\n",
    "nums.append(num3)\n",
    "nums.append(num4)\n",
    "nums.append(num5)\n",
    "\n",
    "max(nums)"
   ]
  },
  {
   "attachments": {},
   "cell_type": "markdown",
   "metadata": {},
   "source": [
    "8. Faça um programa que leia 5 números e informe a soma e a média dos números."
   ]
  },
  {
   "cell_type": "code",
   "execution_count": null,
   "metadata": {},
   "outputs": [],
   "source": [
    "numsList = []\n",
    "num1 = float(input('Digite o primeiro número: '))\n",
    "num2 = float(input('Digite o segundo número: '))\n",
    "num3 = float(input('Digite o terceiro número: '))\n",
    "num4 = float(input('Digite o quarto número: '))\n",
    "num5 = float(input('Digite o quinto número: '))\n",
    "\n",
    "numsList.append(num1)\n",
    "numsList.append(num2)\n",
    "numsList.append(num3)\n",
    "numsList.append(num4)\n",
    "numsList.append(num5)\n",
    "\n",
    "soma = num1 + num2 + num3 + num4 + num5\n",
    "media = soma/len(numsList)\n",
    "\n",
    "print(f'Soma = {soma}, Média = {media}')"
   ]
  },
  {
   "attachments": {},
   "cell_type": "markdown",
   "metadata": {},
   "source": [
    "9. Faça um programa que imprima na tela apenas os números ímpares entre 1 e 50."
   ]
  },
  {
   "cell_type": "code",
   "execution_count": null,
   "metadata": {},
   "outputs": [],
   "source": [
    "for i in range(1,51):\n",
    "  if i%2!=0:\n",
    "    print(i)"
   ]
  },
  {
   "attachments": {},
   "cell_type": "markdown",
   "metadata": {},
   "source": [
    "10. Faça um programa que receba dois números inteiros e gere os números inteiros que estão no intervalo compreendido por eles."
   ]
  },
  {
   "cell_type": "code",
   "execution_count": 1,
   "metadata": {},
   "outputs": [
    {
     "name": "stdout",
     "output_type": "stream",
     "text": [
      "6\n",
      "7\n"
     ]
    }
   ],
   "source": [
    "num1 = int(input('Digite o primeiro número: '))\n",
    "num2 = int(input('Digite o segundo número: '))\n",
    "\n",
    "for i in range(num1+1,num2):\n",
    "  print(i)"
   ]
  },
  {
   "attachments": {},
   "cell_type": "markdown",
   "metadata": {},
   "source": [
    "11. Altere o programa anterior para mostrar no final a soma dos números."
   ]
  },
  {
   "cell_type": "code",
   "execution_count": 70,
   "metadata": {},
   "outputs": [
    {
     "name": "stdout",
     "output_type": "stream",
     "text": [
      "3\n",
      "4\n",
      "5\n",
      "6\n",
      "[3, 4, 5, 6]\n",
      "A soma de [3, 4, 5, 6] é 18\n"
     ]
    }
   ],
   "source": [
    "num1 = int(input('Digite o primeiro número: '))\n",
    "num2 = int(input('Digite o segundo número: '))\n",
    "\n",
    "numeros = []\n",
    "for i in range(num1+1,num2):\n",
    "  print(i)\n",
    "  numeros.append(i)\n",
    "\n",
    "print(numeros)\n",
    "print(f'A soma de {numeros} é {sum(numeros)}')"
   ]
  },
  {
   "attachments": {},
   "cell_type": "markdown",
   "metadata": {},
   "source": [
    "12. Desenvolva um gerador de tabuada, capaz de gerar a tabuada de qualquer número inteiro entre 1 a 10. O usuário deve informar de qual numero ele deseja ver a tabuada. A saída deve ser conforme o exemplo abaixo:"
   ]
  },
  {
   "attachments": {},
   "cell_type": "markdown",
   "metadata": {},
   "source": [
    "- Usando for"
   ]
  },
  {
   "cell_type": "code",
   "execution_count": null,
   "metadata": {},
   "outputs": [],
   "source": [
    "numUsuario = int(input('Digite o número entre 1 e 10 que você deseja ver a tabuada: '))\n",
    "\n",
    "numero = [1, 2, 3, 4, 5, 6, 7, 8, 9, 10]\n",
    "\n",
    "for num in numero:\n",
    "  print(f'{numUsuario} x {num} = {numUsuario*num}')"
   ]
  },
  {
   "attachments": {},
   "cell_type": "markdown",
   "metadata": {},
   "source": [
    "- Usando while"
   ]
  },
  {
   "cell_type": "code",
   "execution_count": null,
   "metadata": {},
   "outputs": [],
   "source": [
    "numUsuario = int(input('Digite o número entre 1 e 10 que você deseja ver a tabuada: '))\n",
    "num=0\n",
    "\n",
    "while num<=10:\n",
    "  print(f'{numUsuario} x {num} = {numUsuario*num}')\n",
    "  num+=1"
   ]
  },
  {
   "attachments": {},
   "cell_type": "markdown",
   "metadata": {},
   "source": [
    "13. Faça um programa que peça dois números, base e expoente, calcule e mostre o primeiro número elevado ao segundo número. Não utilize a função de potência da linguagem."
   ]
  },
  {
   "cell_type": "code",
   "execution_count": null,
   "metadata": {},
   "outputs": [],
   "source": [
    "base = int(input('Digite o valor da base: '))\n",
    "expoente = int(input('Digite o valor do expoente: '))\n",
    "\n",
    "print(f'{base} x {expoente} = {base**expoente}')"
   ]
  },
  {
   "attachments": {},
   "cell_type": "markdown",
   "metadata": {},
   "source": [
    "14. Faça um programa que peça 10 números inteiros, calcule e mostre a quantidade de números pares e a quantidade de números impares."
   ]
  },
  {
   "cell_type": "code",
   "execution_count": null,
   "metadata": {},
   "outputs": [],
   "source": [
    "numsList = []\n",
    "num1 = float(input('Digite o primeiro número: '))\n",
    "num2 = float(input('Digite o segundo número: '))\n",
    "num3 = float(input('Digite o terceiro número: '))\n",
    "num4 = float(input('Digite o quarto número: '))\n",
    "num5 = float(input('Digite o quinto número: '))\n",
    "num6 = float(input('Digite o sexto número: '))\n",
    "num7 = float(input('Digite o sétimo número: '))\n",
    "num8 = float(input('Digite o oitavo número: '))\n",
    "num9 = float(input('Digite o nono número: '))\n",
    "num10 = float(input('Digite o décimo número: '))\n",
    "\n",
    "numsList.append(num1)\n",
    "numsList.append(num2)\n",
    "numsList.append(num3)\n",
    "numsList.append(num4)\n",
    "numsList.append(num5)\n",
    "numsList.append(num6)\n",
    "numsList.append(num7)\n",
    "numsList.append(num8)\n",
    "numsList.append(num9)\n",
    "numsList.append(num10)\n",
    "\n",
    "qntPares = 0\n",
    "qntImpares = 0\n",
    "for num in numsList:\n",
    "  if num%2==0:\n",
    "    qntPares+=1\n",
    "  else:\n",
    "    qntImpares+=1\n",
    "\n",
    "print(f'Quantidade de nº pares = {qntPares}, Quantidade de nº impares = {qntImpares}')"
   ]
  },
  {
   "attachments": {},
   "cell_type": "markdown",
   "metadata": {},
   "source": [
    "15. A série de Fibonacci é formada pela seqüência 1,1,2,3,5,8,13,21,34,55,... Faça um programa capaz de gerar a série até o n−ésimo termo."
   ]
  },
  {
   "cell_type": "code",
   "execution_count": null,
   "metadata": {},
   "outputs": [],
   "source": [
    "nesimoTermo = int(input('Digite o n−ésimo termo da série de Fibonacci: '))\n",
    "\n",
    "fibonacci = [1,1]\n",
    "i=2\n",
    "while i<=nesimoTermo:\n",
    "  print(f'i:', i)\n",
    "  fibonacci.append(fibonacci[i-1]+fibonacci[i-2])\n",
    "  print(f'fibonacci:', fibonacci)\n",
    "  i+=1\n",
    "  print(f'i:', i)\n",
    "print(fibonacci)"
   ]
  },
  {
   "attachments": {},
   "cell_type": "markdown",
   "metadata": {},
   "source": [
    "16. A série de Fibonacci é formada pela seqüência 0,1,1,2,3,5,8,13,21,34,55,... Faça um programa que gere a série até que o valor seja maior que 500."
   ]
  },
  {
   "cell_type": "code",
   "execution_count": null,
   "metadata": {},
   "outputs": [],
   "source": []
  },
  {
   "attachments": {},
   "cell_type": "markdown",
   "metadata": {},
   "source": [
    "17. Faça um programa que calcule o fatorial de um número inteiro fornecido pelo usuário. Ex.: 5!=5.4.3.2.1=120"
   ]
  },
  {
   "cell_type": "code",
   "execution_count": null,
   "metadata": {},
   "outputs": [],
   "source": [
    "num = int(input('Digite um número inteiro para ver o fatorial dele: '))\n",
    "\n",
    "subtrair = 0\n",
    "listMultiplicador = []\n",
    "\n",
    "while subtrair<num:\n",
    "  fatorial = num - subtrair\n",
    "  listMultiplicador.append(fatorial)\n",
    "  subtrair+=1\n",
    "\n",
    "print(listMultiplicador)\n",
    "\n",
    "multiplicador = 1\n",
    "for numero in listMultiplicador:\n",
    "  multiplicador *= numero\n",
    "\n",
    "print(multiplicador)"
   ]
  },
  {
   "attachments": {},
   "cell_type": "markdown",
   "metadata": {},
   "source": [
    "18. Faça um programa que, dado um conjunto de N números, determine o menor valor, o maior valor e a soma dos valores."
   ]
  },
  {
   "cell_type": "code",
   "execution_count": 6,
   "metadata": {},
   "outputs": [
    {
     "name": "stdout",
     "output_type": "stream",
     "text": [
      "[1, 2, 3, 4, 5, 6, 7, 8, 9, 10, 11, 12, 13, 14, 15, 16, 17, 18, 19, 20, 21, 22, 23, 24, 25, 26, 27, 28, 29, 30, 31, 32, 33, 34, 35, 36, 37, 38, 39, 40, 41, 42, 43, 44, 45, 46, 47, 48, 49, 50, 51, 52, 53, 54, 55, 56, 57, 58, 59, 60, 61, 62, 63, 64, 65, 66, 67, 68, 69, 70, 71, 72, 73, 74, 75, 76, 77, 78, 79, 80, 81, 82, 83, 84, 85, 86, 87, 88, 89, 90, 91, 92, 93, 94, 95, 96, 97, 98, 99]\n",
      "Menor valor do intervalor 1\n",
      "Maior valor do intervalor 99\n",
      "Soma dos valores do intervalo 4950\n"
     ]
    }
   ],
   "source": [
    "inicio = int(input(\"Digite o valor que indica o inicio do intervalo: \"))\n",
    "fim = int(input(\"Digite o valor que indica o fim do intervalo: \"))\n",
    "\n",
    "listNum = []\n",
    "for num in range(inicio, fim+1):\n",
    "    listNum.append(num)\n",
    "\n",
    "print(listNum)\n",
    "print(f'Menor valor do intervalor', min(listNum))\n",
    "print(f'Maior valor do intervalor', max(listNum))\n",
    "print(f'Soma dos valores do intervalo', sum(listNum))"
   ]
  },
  {
   "attachments": {},
   "cell_type": "markdown",
   "metadata": {},
   "source": [
    "19. Altere o programa anterior para que ele aceite apenas números entre 0 e 1000."
   ]
  },
  {
   "cell_type": "code",
   "execution_count": 9,
   "metadata": {},
   "outputs": [
    {
     "name": "stdout",
     "output_type": "stream",
     "text": [
      "[2, 3, 4, 5]\n",
      "Menor valor do intervalor 2\n",
      "Maior valor do intervalor 5\n",
      "Soma dos valores do intervalo 14\n"
     ]
    }
   ],
   "source": [
    "inicio = int(input(\"Digite o valor que indica o inicio do intervalo entre 0 e 100: \"))\n",
    "fim = int(input(\"Digite o valor que indica o fim do intervalo entre 0 e 100: \"))\n",
    "\n",
    "listNum = []\n",
    "while inicio<0 or fim>100:\n",
    "    inicio = int(input(\"Digite o valor que indica o inicio do intervalo: \"))\n",
    "    fim = int(input(\"Digite o valor que indica o fim do intervalo: \"))\n",
    "else:\n",
    "    for num in range(inicio, fim+1):\n",
    "        listNum.append(num)\n",
    "\n",
    "print(listNum)\n",
    "print(f'Menor valor do intervalor', min(listNum))\n",
    "print(f'Maior valor do intervalor', max(listNum))\n",
    "print(f'Soma dos valores do intervalo', sum(listNum))"
   ]
  },
  {
   "attachments": {},
   "cell_type": "markdown",
   "metadata": {},
   "source": [
    "20. Altere o programa de cálculo do fatorial, permitindo ao usuário calcular o fatorial várias vezes e limitando o fatorial a números inteiros positivos e menores que 16."
   ]
  },
  {
   "cell_type": "code",
   "execution_count": null,
   "metadata": {},
   "outputs": [],
   "source": [
    "num = int(input('Digite um número inteiro entre 0 e 16 para ver seu fatorial: '))\n",
    "# verifica se o input do usuario esta fora do range determinado\n",
    "while num not in range(1,17):\n",
    "  num = int(input('Digite um número inteiro entre 0 e 16 para ver seu fatorial: '))\n",
    "else: # caso esteja dentro, executa o codigo\n",
    "  subtrair = 0\n",
    "  listMultiplicador = []\n",
    "\n",
    "  while subtrair<num:\n",
    "    fatorial = num - subtrair\n",
    "    listMultiplicador.append(fatorial)\n",
    "    subtrair+=1\n",
    "\n",
    "  print(listMultiplicador)\n",
    "\n",
    "  multiplicador = 1\n",
    "  for numero in listMultiplicador:\n",
    "    multiplicador *= numero\n",
    "\n",
    "  print(multiplicador)\n",
    "  repet = input(\"\"\"Deseja fazer uma nova operação:\n",
    "      [s] sim\n",
    "      [n] não:\n",
    "    \"\"\")\n",
    "\n",
    "  while repet.lower() == 's' or repet.lower() == 'sim':\n",
    "    num = int(input('Digite um número inteiro entre 0 e 16 para ver seu fatorial: '))\n",
    "    # verifica se o input do usuario esta fora do range determinado\n",
    "    while num not in range(1,17):\n",
    "      num = int(input('Digite um número inteiro entre 0 e 16 para ver seu fatorial: '))\n",
    "    else: # caso esteja dentro, executa o codigo\n",
    "      subtrair = 0\n",
    "      listMultiplicador = []\n",
    "\n",
    "      while subtrair<num:\n",
    "        fatorial = num - subtrair\n",
    "        listMultiplicador.append(fatorial)\n",
    "        subtrair+=1\n",
    "\n",
    "      print(listMultiplicador)\n",
    "\n",
    "      multiplicador = 1\n",
    "      for numero in listMultiplicador:\n",
    "        multiplicador *= numero\n",
    "\n",
    "      print(multiplicador)\n",
    "      repet = input(\"\"\"Deseja fazer uma nova operação:\n",
    "      [s] sim\n",
    "      [n] não:\n",
    "      \"\"\")\n",
    "      \n",
    "  else:\n",
    "    print(\"Fim da execução do programa.\")"
   ]
  },
  {
   "attachments": {},
   "cell_type": "markdown",
   "metadata": {},
   "source": [
    "21. Faça um programa que peça um número inteiro e determine se ele é ou não um número primo. Um número primo é aquele que é divisível somente por ele mesmo e por 1."
   ]
  },
  {
   "cell_type": "code",
   "execution_count": null,
   "metadata": {},
   "outputs": [],
   "source": []
  },
  {
   "attachments": {},
   "cell_type": "markdown",
   "metadata": {},
   "source": [
    "22. Altere o programa de cálculo dos números primos, informando, caso o número não seja primo, por quais número ele é divisível."
   ]
  },
  {
   "cell_type": "code",
   "execution_count": null,
   "metadata": {},
   "outputs": [],
   "source": []
  },
  {
   "attachments": {},
   "cell_type": "markdown",
   "metadata": {},
   "source": [
    "23. Faça um programa que mostre todos os primos entre 1 e N sendo N um número inteiro fornecido pelo usuário. O programa deverá mostrar também o número de divisões que ele executou para encontrar os números primos. Serão avaliados o funcionamento, o estilo e o número de testes (divisões) executados."
   ]
  },
  {
   "cell_type": "code",
   "execution_count": null,
   "metadata": {},
   "outputs": [],
   "source": []
  },
  {
   "attachments": {},
   "cell_type": "markdown",
   "metadata": {},
   "source": [
    "24. Faça um programa que calcule o mostre a média aritmética de N notas."
   ]
  },
  {
   "cell_type": "code",
   "execution_count": null,
   "metadata": {},
   "outputs": [],
   "source": [
    "nota1 = float(input('Digite o valor da primeira nota'))\n",
    "nota2 = float(input('Digite o valor da segunda nota'))\n",
    "nota3 = float(input('Digite o valor da terceira nota'))\n",
    "nota4 = float(input('Digite o valor da quarta nota'))\n",
    "nota5 = float(input('Digite o valor da quinta nota'))"
   ]
  },
  {
   "attachments": {},
   "cell_type": "markdown",
   "metadata": {},
   "source": [
    "25. Faça um programa que peça para n pessoas a sua idade, ao final o programa devera verificar se a média de idade da turma varia entre 0 e 25,26 e 60 e maior que 60; e então, dizer se a turma é jovem, adulta ou idosa, conforme a média calculada."
   ]
  },
  {
   "cell_type": "code",
   "execution_count": 83,
   "metadata": {},
   "outputs": [
    {
     "name": "stdout",
     "output_type": "stream",
     "text": [
      "69\n",
      "Turma idosa.\n",
      "[30, 90, 80, 78]\n"
     ]
    }
   ],
   "source": [
    "novaIdade = input('Deseja digitar uma nova idade: ')\n",
    "\n",
    "listIdade = []\n",
    "# Adiciona novas idade a listIdade ate que o usuario nao queira mais digitar idades \n",
    "while novaIdade.lower() == 's' or novaIdade.lower() == 'sim':\n",
    "    idade = int(input('Digite sua idade: '))\n",
    "    listIdade.append(idade)\n",
    "    novaIdade = input('Deseja digitar uma nova idade: ')\n",
    "\n",
    "# Calcula a media de idade da turma e retorna o resultado\n",
    "else:\n",
    "    mediaIdadeInt = int((sum(listIdade))/len(listIdade))   \n",
    "    if mediaIdadeInt in range(0,26):\n",
    "        print('Turma jovem.')\n",
    "    elif mediaIdadeInt in range(26,61):\n",
    "        print('Turma adulta.')\n",
    "    else:\n",
    "        print('Turma idosa.')"
   ]
  },
  {
   "attachments": {},
   "cell_type": "markdown",
   "metadata": {},
   "source": [
    "26. Numa eleição existem três candidatos. Faça um programa que peça o número total de eleitores. Peça para cada eleitor votar e ao final mostrar o número de votos de cada candidato."
   ]
  },
  {
   "cell_type": "code",
   "execution_count": 89,
   "metadata": {},
   "outputs": [
    {
     "name": "stdout",
     "output_type": "stream",
     "text": [
      "['A', 'b', 'C', 'a', 'A']\n",
      "Total de votos por candidato:\n",
      "A = 3\n",
      "B = 1\n",
      "C = 1\n",
      "\n"
     ]
    }
   ],
   "source": [
    "# Pedir o numero total de eleitores\n",
    "totalEleitores = int(input('Digite o total de eleitores nessa eleição: '))\n",
    "\n",
    "# Pedir para cada eleitor votar\n",
    "cont = 0\n",
    "votos = []\n",
    "\n",
    "votosA=0\n",
    "votosB=0\n",
    "votosC=0\n",
    "\n",
    "while cont < totalEleitores:\n",
    "    voto = input('Qual canditado você deseja votar A, B ou C: ')\n",
    "    votos.append(voto)\n",
    "    cont+=1\n",
    "# Mostrar o numero de votos por candidato\n",
    "else:\n",
    "    for i in votos:\n",
    "        if i.lower() == 'a':\n",
    "            votosA+=1\n",
    "        elif i.lower() == 'b':\n",
    "            votosB+=1\n",
    "        elif i.lower() == 'c':\n",
    "            votosC+=1\n",
    "print(votos)\n",
    "print(f\"\"\"Total de votos por candidato:\n",
    "A = {votosA}\n",
    "B = {votosB}\n",
    "C = {votosC}\n",
    "\"\"\")\n",
    "        "
   ]
  },
  {
   "attachments": {},
   "cell_type": "markdown",
   "metadata": {},
   "source": [
    "27. Faça um programa que calcule o número médio de alunos por turma. Para isto, peça a quantidade de turmas e a quantidade de alunos para cada turma. As turmas não podem ter mais de 40 alunos."
   ]
  },
  {
   "cell_type": "code",
   "execution_count": null,
   "metadata": {},
   "outputs": [],
   "source": [
    "# Pedir a quantidade de turmas\n",
    "qntTurmas = int(input('Digite a quantidade total de turmas: '))\n",
    "# Pedir a quantidade de alunos por turma\n",
    "qntAlunosTurma = int(input('Digite o total de alunos por turma: '))\n",
    "# As turmas não podem ter mais de 40 alunos\n",
    "while qntAlunosTurma>40:\n",
    "    qntAlunosTurma = int(input('Digite o total de alunos por turma: '))\n",
    "else:\n",
    "\n",
    "\n",
    "# Calcular a media de alunos por turma\n"
   ]
  },
  {
   "attachments": {},
   "cell_type": "markdown",
   "metadata": {},
   "source": [
    "28. Faça um programa que calcule o valor total investido por um colecionador em sua coleção de CDs e o valor médio gasto em cada um deles. O usuário deverá informar a quantidade de CDs e o valor para em cada um."
   ]
  },
  {
   "cell_type": "code",
   "execution_count": null,
   "metadata": {},
   "outputs": [],
   "source": []
  },
  {
   "attachments": {},
   "cell_type": "markdown",
   "metadata": {},
   "source": [
    "29. O Sr. Manoel Joaquim possui uma grande loja de artigos de R$ 1,99, com cerca de 10 caixas. Para agilizar o cálculo de quanto cada cliente deve pagar ele desenvolveu um tabela que contém o número de itens que o cliente comprou e ao lado o valor da conta. Desta forma a atendente do caixa precisa apenas contar quantos itens o cliente está levando e olhar na tabela de preços. Você foi contratado para desenvolver o programa que monta esta tabela de preços, que conterá os preços de 1 até 50 produtos, conforme o exemplo abaixo:\n",
    "\n",
    "Lojas Quase Dois - Tabela de preços\n",
    "- 1 - R$ 1.99\n",
    "- 2 - R$ 3.98\n",
    "- ...\n",
    "- 50 - R$ 99.50"
   ]
  },
  {
   "cell_type": "code",
   "execution_count": null,
   "metadata": {},
   "outputs": [],
   "source": []
  },
  {
   "attachments": {},
   "cell_type": "markdown",
   "metadata": {},
   "source": [
    "30. O Sr. Manoel Joaquim acaba de adquirir uma panificadora e pretende implantar a metodologia da tabelinha, que já é um sucesso na sua loja de 1,99. Você foi contratado para desenvolver o programa que monta a tabela de preços de pães, de 1 até 50 pães, a partir do preço do pão informado pelo usuário, conforme o exemplo abaixo:\n",
    "\n",
    "Preço do pão: R$ 0.18\n",
    "\n",
    "Panificadora Pão de Ontem - Tabela de preços\n",
    "- 1 - R$ 0.18\n",
    "- 2 - R$ 0.36\n",
    "- ...\n",
    "- 50 - R$ 9.00"
   ]
  },
  {
   "cell_type": "code",
   "execution_count": null,
   "metadata": {},
   "outputs": [],
   "source": []
  },
  {
   "attachments": {},
   "cell_type": "markdown",
   "metadata": {},
   "source": [
    "31. O Sr. Manoel Joaquim expandiu seus negócios para além dos negócios de 1,99 e agora possui uma loja de conveniências. Faça um programa que implemente uma caixa registradora rudimentar. O programa deverá receber um número desconhecido de valores referentes aos preços das mercadorias. Um valor zero deve ser informado pelo operador para indicar o final da compra. O programa deve então mostrar o total da compra e perguntar o valor em dinheiro que o cliente forneceu, para então calcular e mostrar o valor do troco. Após esta operação, o programa deverá voltar ao ponto inicial, para registrar a próxima compra. A saída deve ser conforme o exemplo abaixo:\n",
    "\n",
    "Lojas Tabajara \n",
    "- Produto 1: R$ 2.20\n",
    "- Produto 2: R$ 5.80\n",
    "- Produto 3: R$ 0\n",
    "- Total: R$ 9.00\n",
    "- Dinheiro: R$ 20.00\n",
    "- Troco: R$ 11.00\n",
    "- ..."
   ]
  },
  {
   "cell_type": "code",
   "execution_count": null,
   "metadata": {},
   "outputs": [],
   "source": []
  },
  {
   "attachments": {},
   "cell_type": "markdown",
   "metadata": {},
   "source": [
    "32. Faça um programa que calcule o fatorial de um número inteiro fornecido pelo usuário. Ex.: 5!=5.4.3.2.1=120. A saída deve ser conforme o exemplo abaixo:\n",
    "\n",
    "Fatorial de: 5\n",
    "- 5! =  5 . 4 . 3 . 2 . 1 = 120"
   ]
  },
  {
   "cell_type": "code",
   "execution_count": 55,
   "metadata": {},
   "outputs": [
    {
     "name": "stdout",
     "output_type": "stream",
     "text": [
      "5\n",
      "4\n",
      "3\n",
      "2\n",
      "1\n",
      "5! 5= 120\n"
     ]
    },
    {
     "data": {
      "text/plain": [
       "'\\n[TO DO]\\n- Editar o print para aparecer a sequência de números que estão sendo multiplicados\\n'"
      ]
     },
     "execution_count": 55,
     "metadata": {},
     "output_type": "execute_result"
    }
   ],
   "source": [
    "inteiro = int(input('Digite um número inteiro para ver o seu fatorial: '))\n",
    "\n",
    "mult = 0\n",
    "fatorial = []\n",
    "while mult<inteiro:\n",
    "    n = (inteiro-mult)\n",
    "    fatorial.append(n)\n",
    "    mult+=1\n",
    "\n",
    "multiplicador = 1\n",
    "for i in fatorial:\n",
    "    print(i)\n",
    "    multiplicador*=i\n",
    "\n",
    "print(f'{inteiro}! {inteiro} = {multiplicador}')\n",
    "\n",
    "\"\"\"\n",
    "[TO DO]\n",
    "- Editar o print para aparecer a sequência de números que estão sendo multiplicados\n",
    "\"\"\""
   ]
  },
  {
   "attachments": {},
   "cell_type": "markdown",
   "metadata": {},
   "source": [
    "33. O Departamento Estadual de Meteorologia lhe contratou para desenvolver um programa que leia as um conjunto indeterminado de temperaturas, e informe ao final a menor e a maior temperaturas informadas, bem como a média das temperaturas."
   ]
  },
  {
   "cell_type": "code",
   "execution_count": 66,
   "metadata": {},
   "outputs": [
    {
     "name": "stdout",
     "output_type": "stream",
     "text": [
      "não entrei\n",
      "Temperaturas informadas: [50.0, 45.0, 80.0, 30.0]\n",
      "temperatura minima: 30.0\n",
      "temperatura máxima: 80.0\n",
      "A média das temperaturas é de: 51.25\n"
     ]
    }
   ],
   "source": [
    "novaTemperatura = input('Deseja digitar uma nota temperatura: ')\n",
    "\n",
    "listTemperaturas = []\n",
    "while novaTemperatura.lower()=='s'or novaTemperatura.lower()=='sim':\n",
    "    temperatura = float(input('Digite o valor da temperatura: '))\n",
    "    listTemperaturas.append(temperatura)\n",
    "    novaTemperatura = input('Deseja digitar uma nota temperatura: ')\n",
    "else:\n",
    "    print('Fim da execução do programa')\n",
    "\n",
    "print(f'Temperaturas informadas:', listTemperaturas) # mostrando as temperaturas informadas pelo usuario\n",
    "print(f'temperatura minima:', min(listTemperaturas)) # temperatura minima encontrada\n",
    "print(f'temperatura máxima:', max(listTemperaturas)) # temperatura maxima encontrada\n",
    "print(f'A média das temperaturas é de:', (sum(listTemperaturas))/len(listTemperaturas)) # media das temperaturas"
   ]
  },
  {
   "attachments": {},
   "cell_type": "markdown",
   "metadata": {},
   "source": [
    "34. Os números primos possuem várias aplicações dentro da Computação, por exemplo na Criptografia. Um número primo é aquele que é divisível apenas por um e por ele mesmo. Faça um programa que peça um número inteiro e determine se ele é ou não um número primo."
   ]
  },
  {
   "cell_type": "code",
   "execution_count": null,
   "metadata": {},
   "outputs": [],
   "source": []
  },
  {
   "attachments": {},
   "cell_type": "markdown",
   "metadata": {},
   "source": [
    "35. Encontrar números primos é uma tarefa difícil. Faça um programa que gera uma lista dos números primos existentes entre 1 e um número inteiro informado pelo usuário."
   ]
  },
  {
   "cell_type": "code",
   "execution_count": null,
   "metadata": {},
   "outputs": [],
   "source": []
  },
  {
   "attachments": {},
   "cell_type": "markdown",
   "metadata": {},
   "source": [
    "36. Desenvolva um programa que faça a tabuada de um número qualquer inteiro que será digitado pelo usuário, mas a tabuada não deve necessariamente iniciar em 1 e terminar em 10, o valor inicial e final devem ser informados também pelo usuário, conforme exemplo abaixo:\n",
    "\n",
    "Montar a tabuada de: 5\n",
    "- Começar por: 4\n",
    "- Terminar em: 7\n",
    "\n",
    "Vou montar a tabuada de 5 começando em 4 e terminando em 7:\n",
    "- 5 X 4 = 20\n",
    "- 5 X 5 = 25\n",
    "- 5 X 6 = 30\n",
    "- 5 X 7 = 35\n",
    "\n",
    "Obs: Você deve verificar se o usuário não digitou o final menor que o inicial."
   ]
  },
  {
   "cell_type": "code",
   "execution_count": 29,
   "metadata": {},
   "outputs": [
    {
     "name": "stdout",
     "output_type": "stream",
     "text": [
      "5 x 4 = 20\n",
      "5 x 5 = 25\n",
      "5 x 6 = 30\n",
      "5 x 7 = 35\n"
     ]
    }
   ],
   "source": [
    "numero = int(input(\"Digite qual número que você deseja ver a tabuada: \"))\n",
    "inicio = int(input('Digite em qual valor a tabuada vai começar: '))\n",
    "fim = int(input('Digite em qual valor a tabuada vai acabar: '))\n",
    "\n",
    "# verificar se o valor final é menor que o valor inicial\n",
    "while fim < inicio:\n",
    "    numero = int(input(\"Digite qual número que você deseja ver a tabuada: \"))\n",
    "    inicio = int(input('Digite em qual valor a tabuada vai começar: '))\n",
    "    fim = int(input('Digite em qual valor a tabuada vai acabar: '))\n",
    "else:\n",
    "    # alterar a tabuada para que mostre apenas do valor de inicio ate o valor final\n",
    "    for i in range(inicio, fim+1):\n",
    "        print(f'{numero} x {i} = {numero*i}')\n"
   ]
  },
  {
   "attachments": {},
   "cell_type": "markdown",
   "metadata": {},
   "source": [
    "37. Uma academia deseja fazer um senso entre seus clientes para descobrir o mais alto, o mais baixo, a mais gordo e o mais magro, para isto você deve fazer um programa que pergunte a cada um dos clientes da academia seu código, sua altura e seu peso. O final da digitação de dados deve ser dada quando o usuário digitar 0 (zero) no campo código. Ao encerrar o programa também deve ser informados os códigos e valores do clente mais alto, do mais baixo, do mais gordo e do mais magro, além da média das alturas e dos pesos dos clientes"
   ]
  },
  {
   "cell_type": "code",
   "execution_count": null,
   "metadata": {},
   "outputs": [],
   "source": []
  },
  {
   "attachments": {},
   "cell_type": "markdown",
   "metadata": {},
   "source": [
    "38. Um funcionário de uma empresa recebe aumento salarial anualmente: Sabe-se que:\n",
    "- Esse funcionário foi contratado em 1995, com salário inicial de R$ 1.000,00;\n",
    "- Em 1996 recebeu aumento de 1,5% sobre seu salário inicial;\n",
    "- A partir de 1997 (inclusive), os aumentos salariais sempre correspondem ao dobro do percentual do ano anterior. Faça um programa que determine o salário atual desse funcionário. Após concluir isto, altere o programa permitindo que o usuário digite o salário inicial do funcionário."
   ]
  },
  {
   "cell_type": "code",
   "execution_count": null,
   "metadata": {},
   "outputs": [],
   "source": []
  },
  {
   "attachments": {},
   "cell_type": "markdown",
   "metadata": {},
   "source": [
    "39. Faça um programa que leia dez conjuntos de dois valores, o primeiro representando o número do aluno e o segundo representando a sua altura em centímetros. Encontre o aluno mais alto e o mais baixo. Mostre o número do aluno mais alto e o número do aluno mais baixo, junto com suas alturas."
   ]
  },
  {
   "cell_type": "code",
   "execution_count": 20,
   "metadata": {},
   "outputs": [
    {
     "name": "stdout",
     "output_type": "stream",
     "text": [
      "[2, 1, 8]\n",
      "[85.0, 95.0, 150.0]\n",
      "O aluno mais baixo é o número 2 com uma altura de 85.0cm.\n",
      "O aluno mais alto é o número 8 com uma altura de 150.0cm.\n"
     ]
    }
   ],
   "source": [
    "numAluno1 = int(float(input('Digite seu número: '))) # inputs aluno 1\n",
    "altura1 = float(input('Digite sua altura em centimentros: '))\n",
    "numAluno2 = int(float(input('Digite seu número: '))) # inputs aluno 2\n",
    "altura2 = float(input('Digite sua altura em centimentros: '))\n",
    "numAluno3 = int(float(input('Digite seu número: '))) # inputs aluno 3\n",
    "altura3 = float(input('Digite sua altura em centimentros: '))\n",
    "\n",
    "nAlunos = []\n",
    "alturasAlunos = []\n",
    "\n",
    "nAlunos.append(numAluno1)\n",
    "alturasAlunos.append(altura1)\n",
    "nAlunos.append(numAluno2)\n",
    "alturasAlunos.append(altura2)\n",
    "nAlunos.append(numAluno3)\n",
    "alturasAlunos.append(altura3)\n",
    "\n",
    "print(nAlunos)\n",
    "print(alturasAlunos)\n",
    "\n",
    "# aluno mais baixo\n",
    "#print(min(alturasAlunos))\n",
    "# aluno mais alto\n",
    "#print(max(alturasAlunos))\n",
    "# Mostrar numero e altura do aluno mais baixo\n",
    "for i, j in enumerate(nAlunos):\n",
    "    #print(i,j)\n",
    "    #print(alturasAlunos[i])\n",
    "    if alturasAlunos[i] == min(alturasAlunos):\n",
    "        print(f'O aluno mais baixo é o número {j} com uma altura de {alturasAlunos[i]}cm.')\n",
    "    # Mostrar numero e altura do aluno mais alto\n",
    "    elif alturasAlunos[i] == max(alturasAlunos):\n",
    "        print(f'O aluno mais alto é o número {j} com uma altura de {alturasAlunos[i]}cm.')\n",
    "    else:\n",
    "        continue\n"
   ]
  },
  {
   "attachments": {},
   "cell_type": "markdown",
   "metadata": {},
   "source": [
    "40. Foi feita uma estatística em cinco cidades brasileiras para coletar dados sobre acidentes de trânsito. Foram obtidos os seguintes dados:\n",
    "- Código da cidade;\n",
    "- Número de veículos de passeio (em 1999);\n",
    "- Número de acidentes de trânsito com vítimas (em 1999). \n",
    "\n",
    "Deseja-se saber:\n",
    "- Qual o maior e menor índice de acidentes de transito e a que cidade pertence;\n",
    "- Qual a média de veículos nas cinco cidades juntas;\n",
    "- Qual a média de acidentes de trânsito nas cidades com menos de 2.000 veículos de passeio."
   ]
  },
  {
   "cell_type": "code",
   "execution_count": null,
   "metadata": {},
   "outputs": [],
   "source": [
    "# input informacoes primeira cidade\n",
    "codCity1 = int(input(\"Digite o código da primeira cidade: \"))\n",
    "qntVeiculos1 = int(input(\"Digite a quantidade de veiculos na primeira cidade em 1999: \"))\n",
    "qntAcidentes1 = int(input(\"Digite a quantidade de acidentes com vítimas na primeira cidade em 1999: \"))\n",
    "# input informacoes segunda cidade\n",
    "codCity2 = int(input(\"Digite o código da segunda cidade: \"))\n",
    "qntVeiculos2 = int(input(\"Digite a quantidade de veiculos na segunda cidade em 1999: \"))\n",
    "qntAcidentes2 = int(input(\"Digite a quantidade de acidentes com vítimas na segunda cidade em 1999: \"))\n",
    "# input informacoes terceira cidade\n",
    "'''codCity3 = int(input(\"Digite o código da terceira cidade: \"))\n",
    "qntVeiculos3 = int(input(\"Digite a quantidade de veiculos na terceira cidade em 1999: \"))\n",
    "qntAcidentes3 = int(input(\"Digite a quantidade de acidentes com vítimas na terceira cidade em 1999: \"))\n",
    "# input informacoes quarta cidade\n",
    "codCity4 = int(input(\"Digite o código da quarta cidade: \"))\n",
    "qntVeiculos4 = int(input(\"Digite a quantidade de veiculos na quarta cidade em 1999: \"))\n",
    "qntAcidentes4 = int(input(\"Digite a quantidade de acidentes com vítimas na quarta cidade em 1999: \"))\n",
    "# input informacoes quinta cidade\n",
    "codCity5 = int(input(\"Digite o código da quinta cidade: \"))\n",
    "qntVeiculos5 = int(input(\"Digite a quantidade de veiculos na quinta cidade em 1999: \"))\n",
    "qntAcidentes5 = int(input(\"Digite a quantidade de acidentes com vítimas na quinta cidade em 1999:\" ))'''\n",
    "\n",
    "\n",
    "# a média de veículos nas cinco cidades juntas\n",
    "mediaVeiculos = (qntVeiculos1 + qntAcidentes2)/2\n",
    "\n",
    "# Qual a média de acidentes de trânsito nas cidades com menos de 2.000 veículos de passeio\n",
    "if qntVeiculos1"
   ]
  },
  {
   "attachments": {},
   "cell_type": "markdown",
   "metadata": {},
   "source": [
    "44. Em uma eleição presidencial existem quatro candidatos. Os votos são informados por meio de código. Os códigos utilizados são:\n",
    "\n",
    "1 , 2, 3, 4  - Votos para os respectivos candidatos \n",
    "\n",
    "(você deve montar a tabela ex: 1 - Jose/ 2- João/etc)\n",
    "- 5 - Voto Nulo\n",
    "- 6 - Voto em Branco"
   ]
  },
  {
   "cell_type": "code",
   "execution_count": null,
   "metadata": {},
   "outputs": [],
   "source": []
  },
  {
   "attachments": {},
   "cell_type": "markdown",
   "metadata": {},
   "source": [
    "45. Desenvolver um programa para verificar a nota do aluno em uma prova com 10 questões, o programa deve perguntar ao aluno a resposta de cada questão e ao final comparar com o gabarito da prova e assim calcular o total de acertos e a nota (atribuir 1 ponto por resposta certa). Após cada aluno utilizar o sistema deve ser feita uma pergunta se outro aluno vai utilizar o sistema. Após todos os alunos terem respondido informar:\n",
    "- Maior e Menor Acerto;\n",
    "- Total de Alunos que utilizaram o sistema;\n",
    "- A Média das Notas da Turma.\n",
    "\n",
    "Gabarito da Prova:\n",
    "\n",
    "- 01 - A\n",
    "- 02 - B\n",
    "- 03 - C\n",
    "- 04 - D\n",
    "- 05 - E\n",
    "- 06 - E\n",
    "- 07 - D\n",
    "- 08 - C\n",
    "- 09 - B\n",
    "- 10 - A"
   ]
  },
  {
   "cell_type": "code",
   "execution_count": null,
   "metadata": {},
   "outputs": [
    {
     "name": "stdout",
     "output_type": "stream",
     "text": [
      "s\n",
      "['A', 'C', 'D', 'E', 'E', 'B', 'B', 'D', 'B', 'C']\n",
      "['A', 'B', 'C', 'D', 'E', 'E', 'D', 'C', 'B', 'A']\n",
      "['A', 'E', 'B']\n",
      "nota: 3\n"
     ]
    }
   ],
   "source": [
    "repet = input('''Outro aluno vai utlizar o sistema:\n",
    "[s] sim\n",
    "[n] não\n",
    "''')\n",
    "print(repet)\n",
    "\n",
    "questao = 0\n",
    "alternativasAluno = []\n",
    "gabarito = ['A', 'B', 'C', 'D', 'E', 'E', 'D', 'C', 'B', 'A']\n",
    "alternativasCoretas = []\n",
    "notas = []\n",
    "\n",
    "while repet.lower() =='s' or repet.lower() == 'sim':\n",
    "    while questao < 10:\n",
    "        # Input das respostas do aluno e salvando em uma lista\n",
    "        resposta = input('Digite a resposta de cada questão em ordem: ')\n",
    "        alternativasAluno.append(resposta.upper())\n",
    "        questao+=1\n",
    "    else:\n",
    "        notaAluno = 0\n",
    "        \n",
    "        # Mostrar a posição e a letra no gabarito e na alternativasAluno\n",
    "        for i, respostaAluno in enumerate(alternativasAluno):\n",
    "            #print(i, respostaAluno)\n",
    "            t = gabarito.index(respostaAluno)\n",
    "            #print(f'gabarito:', gabarito[i])\n",
    "            if respostaAluno == gabarito[i]:\n",
    "                alternativasCoretas.append(respostaAluno)\n",
    "            nota = len(alternativasCoretas)\n",
    "            notas.append(nota)\n",
    "        repet = input('''Outro aluno vai utlizar o sistema:\n",
    "        [s] sim\n",
    "        [n] não\n",
    "        ''')\n",
    "\n",
    "print(alternativasAluno)\n",
    "print(gabarito)\n",
    "print(alternativasCoretas)\n",
    "print(f'nota:', nota)\n",
    "print(f'notas:', notas)\n",
    "\n"
   ]
  },
  {
   "cell_type": "code",
   "execution_count": 9,
   "metadata": {},
   "outputs": [
    {
     "name": "stdout",
     "output_type": "stream",
     "text": [
      "s\n",
      "['A', 'C', 'B']\n",
      "0 A\n",
      "gabarito: A\n",
      "1 - Resposta correta: A\n",
      "1 C\n",
      "gabarito: B\n",
      "erradas:  C\n",
      "2 B\n",
      "gabarito: C\n",
      "erradas:  B\n",
      "1\n",
      "[1, 1, 1]\n",
      "['A', 'A', 'C']\n",
      "0 A\n",
      "gabarito: A\n",
      "1 - Resposta correta: A\n",
      "1 A\n",
      "gabarito: B\n",
      "erradas:  A\n",
      "2 C\n",
      "gabarito: C\n",
      "3 - Resposta correta: C\n",
      "2\n",
      "[1, 1, 2]\n"
     ]
    }
   ],
   "source": [
    "repet = input('''Outro aluno vai utlizar o sistema:\n",
    "[s] sim\n",
    "[n] não\n",
    "''')\n",
    "print(repet)\n",
    "\n",
    "while repet.lower() =='s' or repet.lower() == 'sim':\n",
    "    # Input do aluno informando as alternativas marcadas por ele na prova\n",
    "    alternativa1 = input('Digite a resposta da questão 1: ')\n",
    "    alternativa2 = input('Digite a resposta da questão 2: ')\n",
    "    alternativa3 = input('Digite a resposta da questão 3: ')\n",
    "\n",
    "    alternativasAluno = []\n",
    "    gabarito = ['A', 'B', 'C', 'D', 'E', 'E', 'D', 'C', 'B', 'A']\n",
    "\n",
    "    # Adicionando as respostas enviada pelo aluno, em letra maiuscula, na lista alternativasAluno \n",
    "    alternativasAluno.append(alternativa1.upper())\n",
    "    alternativasAluno.append(alternativa2.upper())\n",
    "    alternativasAluno.append(alternativa3.upper())\n",
    "    print(alternativasAluno)\n",
    "\n",
    "    notaAluno = 0\n",
    "    notas = []\n",
    "    # Mostrar a posição e a letra no gabarito e na alternativasAluno\n",
    "    for i, respostaAluno in enumerate(alternativasAluno):\n",
    "        print(i, respostaAluno)\n",
    "        t = gabarito.index(respostaAluno)\n",
    "        print(f'gabarito:', gabarito[i])\n",
    "        if respostaAluno == gabarito[i]:\n",
    "            print(f'{i+1} - Resposta correta: {respostaAluno}')\n",
    "            notaAluno+=1\n",
    "        else:\n",
    "            print(f'erradas: ', respostaAluno)\n",
    "            notaAluno = notaAluno\n",
    "        notas.append(notaAluno)\n",
    "    print(notaAluno)\n",
    "    print(notas)   \n",
    "            # adicionar as respostas corretas em uma lista com 1 e somar e assim obter a nota do aluno.\n",
    "    repet = input('''Outro aluno vai utlizar o sistema:\n",
    "        [s] sim\n",
    "        [n] não\n",
    "        ''')\n",
    "\n"
   ]
  },
  {
   "cell_type": "code",
   "execution_count": 9,
   "metadata": {},
   "outputs": [
    {
     "name": "stdout",
     "output_type": "stream",
     "text": [
      "s\n",
      "['A', 'C', 'B']\n",
      "gabarito: A\n",
      "gabarito: B\n",
      "gabarito: C\n",
      "1\n",
      "[1]\n",
      "['A', 'A', 'C']\n",
      "gabarito: A\n",
      "gabarito: B\n",
      "gabarito: C\n",
      "2\n",
      "[1, 2]\n",
      "Programa encerrado.\n"
     ]
    },
    {
     "data": {
      "text/plain": [
       "'\\n[TO DO] - Terminar de concentar a lógica\\n'"
      ]
     },
     "execution_count": 9,
     "metadata": {},
     "output_type": "execute_result"
    }
   ],
   "source": [
    "repet = input('''Outro aluno vai utlizar o sistema:\n",
    "[s] sim\n",
    "[n] não\n",
    "''')\n",
    "print(repet)\n",
    "\n",
    "while repet.lower() =='s' or repet.lower() == 'sim':\n",
    "    # Input do aluno informando as alternativas marcadas por ele na prova\n",
    "    alternativa1 = input('Digite a resposta da questão 1: ')\n",
    "    alternativa2 = input('Digite a resposta da questão 2: ')\n",
    "    alternativa3 = input('Digite a resposta da questão 3: ')\n",
    "    '''alternativa4 = input('Digite a resposta da questão 4: ')\n",
    "    alternativa5 = input('Digite a resposta da questão 5: ')\n",
    "    alternativa6 = input('Digite a resposta da questão 6: ')\n",
    "    alternativa7 = input('Digite a resposta da questão 7: ')\n",
    "    alternativa8 = input('Digite a resposta da questão 8: ')\n",
    "    alternativa9 = input('Digite a resposta da questão 9: ')\n",
    "    alternativa10 = input('Digite a resposta da questão 10: ')'''\n",
    "\n",
    "    alternativasAluno = []\n",
    "    gabarito = ['A', 'B', 'C', 'D', 'E', 'E', 'D', 'C', 'B', 'A']\n",
    "\n",
    "    # Adicionando as respostas enviada pelo aluno, em letra maiuscula, na lista alternativasAluno \n",
    "    alternativasAluno.append(alternativa1.upper())\n",
    "    alternativasAluno.append(alternativa2.upper())\n",
    "    alternativasAluno.append(alternativa3.upper())\n",
    "    '''alternativasAluno.append(alternativa4.upper())\n",
    "    alternativasAluno.append(alternativa5.upper())\n",
    "    alternativasAluno.append(alternativa6.upper())\n",
    "    alternativasAluno.append(alternativa7.upper())\n",
    "    alternativasAluno.append(alternativa8.upper())\n",
    "    alternativasAluno.append(alternativa9.upper())\n",
    "    alternativasAluno.append(alternativa10.upper())'''\n",
    "    print(alternativasAluno)\n",
    "\n",
    "    notaAluno = 0\n",
    "    notas = []\n",
    "    # Mostrar a posição e a letra no gabarito e na alternativasAluno\n",
    "    for i, respostaAluno in enumerate(alternativasAluno):\n",
    "        #print(i, respostaAluno)\n",
    "        t = gabarito.index(respostaAluno)\n",
    "        print(f'gabarito:', gabarito[i])\n",
    "        #print(f't:', t)\n",
    "        # Verifica se a resposta que o aluno deu esta compativel com a resposta na mesma posição no gabarito\n",
    "        if respostaAluno == gabarito[i]:\n",
    "            #print(f'{i+1} - Resposta correta: {respostaAluno}')\n",
    "            notaAluno+=1\n",
    "            notas.append(notaAluno)\n",
    "        else:\n",
    "            notaAluno = notaAluno\n",
    "    print(notaAluno)\n",
    "    print(notas)\n",
    "    repet = input('''Outro aluno vai utlizar o sistema:\n",
    "        [s] sim\n",
    "        [n] não\n",
    "        ''')\n",
    "else:\n",
    "    print('Programa encerrado.')\n",
    "\n",
    "\"\"\"\n",
    "[TO DO] - Terminar de concentar a lógica\n",
    "\"\"\"\n"
   ]
  },
  {
   "attachments": {},
   "cell_type": "markdown",
   "metadata": {},
   "source": [
    "46. Em uma competição de salto em distância cada atleta tem direito a cinco saltos. No final da série de saltos de cada atleta, o melhor e o pior resultados são eliminados. O seu resultado fica sendo a média dos três valores restantes. Você deve fazer um programa que receba o nome e as cinco distâncias alcançadas pelo atleta em seus saltos e depois informe a média dos saltos conforme a descrição acima informada (retirar o melhor e o pior salto e depois calcular a média). Faça uso de uma lista para armazenar os saltos. Os saltos são informados na ordem da execução, portanto não são ordenados. O programa deve ser encerrado quando não for informado o nome do atleta. A saída do programa deve ser conforme o exemplo abaixo:\n",
    "\n",
    "Atleta: Rodrigo Curvêllo\n",
    "\n",
    "- Primeiro Salto: 6.5 m\n",
    "- Segundo Salto: 6.1 m\n",
    "- Terceiro Salto: 6.2 m\n",
    "- Quarto Salto: 5.4 m\n",
    "- Quinto Salto: 5.3 m\n",
    "\n",
    "- Melhor salto:  6.5 m\n",
    "- Pior salto: 5.3 m\n",
    "- Média dos demais saltos: 5.9 m\n",
    "\n",
    "Resultado final:\n",
    "- Rodrigo Curvêllo: 5.9 m"
   ]
  },
  {
   "cell_type": "code",
   "execution_count": null,
   "metadata": {},
   "outputs": [],
   "source": []
  },
  {
   "attachments": {},
   "cell_type": "markdown",
   "metadata": {},
   "source": [
    "47. Em uma competição de ginástica, cada atleta recebe votos de sete jurados. A melhor e a pior nota são eliminadas. A sua nota fica sendo a média dos votos restantes. Você deve fazer um programa que receba o nome do ginasta e as notas dos sete jurados alcançadas pelo atleta em sua apresentação e depois informe a sua média, conforme a descrição acima informada (retirar o melhor e o pior salto e depois calcular a média com as notas restantes). As notas não são informados ordenadas. Um exemplo de saída do programa deve ser conforme o exemplo abaixo:\n",
    "\n",
    "Atleta: Aparecido Parente\n",
    "- Nota: 9.9\n",
    "- Nota: 7.5\n",
    "- Nota: 9.5\n",
    "- Nota: 8.5\n",
    "- Nota: 9.0\n",
    "- Nota: 8.5\n",
    "- Nota: 9.7\n",
    "\n",
    "Resultado final:\n",
    "- Atleta: Aparecido Parente\n",
    "- Melhor nota: 9.9\n",
    "- Pior nota: 7.5\n",
    "- Média: 9,04"
   ]
  },
  {
   "cell_type": "code",
   "execution_count": null,
   "metadata": {},
   "outputs": [],
   "source": []
  },
  {
   "attachments": {},
   "cell_type": "markdown",
   "metadata": {},
   "source": [
    "48. Faça um programa que peça um numero inteiro positivo e em seguida mostre este numero invertido.\n",
    "\n",
    "Exemplo:\n",
    "  12376489\n",
    "  \n",
    "  => 98467321"
   ]
  },
  {
   "cell_type": "code",
   "execution_count": 19,
   "metadata": {},
   "outputs": [
    {
     "name": "stdout",
     "output_type": "stream",
     "text": [
      "número digitado: 12376489\n",
      "número invetido: 98467321\n"
     ]
    }
   ],
   "source": [
    "num = (input('Digite um número: '))\n",
    "print(f'número digitado:', num)\n",
    "\n",
    "numInvertido = num[::-1]\n",
    "print(f'número invetido:', numInvertido)"
   ]
  },
  {
   "attachments": {},
   "cell_type": "markdown",
   "metadata": {},
   "source": [
    "49. Faça um programa que mostre os n termos da Série a seguir:\n",
    "\n",
    "  S = 1/1 + 2/3 + 3/5 + 4/7 + 5/9 + ... + n/m. "
   ]
  },
  {
   "cell_type": "code",
   "execution_count": null,
   "metadata": {},
   "outputs": [],
   "source": []
  },
  {
   "attachments": {},
   "cell_type": "markdown",
   "metadata": {},
   "source": [
    "50. Sendo H= 1 + 1/2 + 1/3 + 1/4 + ... + 1/N, Faça um programa que calcule o valor de H com N termos."
   ]
  },
  {
   "cell_type": "code",
   "execution_count": null,
   "metadata": {},
   "outputs": [],
   "source": []
  },
  {
   "attachments": {},
   "cell_type": "markdown",
   "metadata": {},
   "source": [
    "51. Faça um programa que mostre os n termos da Série a seguir:\n",
    "\n",
    "  S = 1/1 + 2/3 + 3/5 + 4/7 + 5/9 + ... + n/m. \n",
    "  \n",
    "Imprima no final a soma da série."
   ]
  },
  {
   "cell_type": "code",
   "execution_count": null,
   "metadata": {},
   "outputs": [],
   "source": []
  }
 ],
 "metadata": {
  "kernelspec": {
   "display_name": "Python 3",
   "language": "python",
   "name": "python3"
  },
  "language_info": {
   "codemirror_mode": {
    "name": "ipython",
    "version": 3
   },
   "file_extension": ".py",
   "mimetype": "text/x-python",
   "name": "python",
   "nbconvert_exporter": "python",
   "pygments_lexer": "ipython3",
   "version": "3.11.1"
  },
  "orig_nbformat": 4,
  "vscode": {
   "interpreter": {
    "hash": "81d28a13152a293fbc1e1ce9638b10606ffeb9163ab1c409c13da17243cf3afb"
   }
  }
 },
 "nbformat": 4,
 "nbformat_minor": 2
}
