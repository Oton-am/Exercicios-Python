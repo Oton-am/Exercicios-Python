{
  "nbformat": 4,
  "nbformat_minor": 0,
  "metadata": {
    "colab": {
      "provenance": []
    },
    "kernelspec": {
      "name": "python3",
      "display_name": "Python 3"
    },
    "language_info": {
      "name": "python"
    }
  },
  "cells": [
    {
      "cell_type": "markdown",
      "source": [
        "## Gabarito dos Exercícios de Estrutura de Decisão [if, elif e else]"
      ],
      "metadata": {
        "id": "kPKFH5ZnmyXH"
      }
    },
    {
      "cell_type": "markdown",
      "source": [
        "1. Faça um Programa que peça dois números e imprima o maior deles."
      ],
      "metadata": {
        "id": "ARX2B_qGm66B"
      }
    },
    {
      "cell_type": "code",
      "execution_count": null,
      "metadata": {
        "id": "orx2mmu3mU9B"
      },
      "outputs": [],
      "source": [
        "num1 = float(input('Digite o primeiro número: '))\n",
        "num2 = float(input('Digite o segundo número: '))\n",
        "\n",
        "result = num1 if num1>num2 else num2\n",
        "print(result)"
      ]
    },
    {
      "cell_type": "markdown",
      "source": [
        "2. Faça um Programa que peça um valor e mostre na tela se o valor é positivo ou negativo."
      ],
      "metadata": {
        "id": "XgNVhfi0nB35"
      }
    },
    {
      "cell_type": "code",
      "source": [
        "num = float(input('Digite um número: '))\n",
        "\n",
        "resultado = 'Positivo' if num>=0 else 'Negativo'\n",
        "print(resultado)"
      ],
      "metadata": {
        "id": "nGrZb39tnKVS"
      },
      "execution_count": null,
      "outputs": []
    },
    {
      "cell_type": "markdown",
      "source": [
        "3. Faça um Programa que verifique se uma letra digitada é \"F\" ou \"M\". Conforme a letra escrever: F - Feminino, M - Masculino, Sexo Inválido"
      ],
      "metadata": {
        "id": "35nPyLtInMIZ"
      }
    },
    {
      "cell_type": "code",
      "source": [
        "sexo = input('Digite qual seu sexo use F ou M: ')\n",
        "\n",
        "resultSexo = 'F - Feminino' if sexo.lower()=='f' or sexo.lower()=='feminino' \\\n",
        "       else 'M - Masculino' if sexo.lower()=='m' or sexo.lower()=='masculino' \\\n",
        "       else 'Digite F ou M'\n",
        "print(resultSexo)"
      ],
      "metadata": {
        "id": "GLBbUBJznOhO"
      },
      "execution_count": null,
      "outputs": []
    },
    {
      "cell_type": "markdown",
      "source": [
        "4. Faça um Programa que verifique se uma letra digitada é vogal ou consoante.\n"
      ],
      "metadata": {
        "id": "uo9FHxFhnXCz"
      }
    },
    {
      "cell_type": "code",
      "source": [
        "letra = input('Digite uma letra do alfabeto: ')\n",
        "\n",
        "vogais = ['a','e','i','o','u']\n",
        "result = \"Vogal\" if letra in vogais else 'Consoante'\n",
        "\n",
        "print(result)"
      ],
      "metadata": {
        "id": "jV_4kuLFnXxJ"
      },
      "execution_count": null,
      "outputs": []
    },
    {
      "cell_type": "markdown",
      "source": [
        "5. Faça um programa para a leitura de duas notas parciais de um aluno. O programa deve calcular a média alcançada por aluno e apresentar:\n",
        "- A mensagem \"Aprovado\", se a média alcançada for maior ou igual a sete;\n",
        "- A mensagem \"Reprovado\", se a média for menor do que sete;\n",
        "- A mensagem \"Aprovado com Distinção\", se a média for igual a dez."
      ],
      "metadata": {
        "id": "ahOdBcxbnjpx"
      }
    },
    {
      "cell_type": "code",
      "source": [
        "nota1 = float(input('Digite a primeira nota: '))\n",
        "nota2 = float(input('Digite a segunda nota: '))\n",
        "\n",
        "\n",
        "mediaAluno =  (nota1+nota2)/2\n",
        "resulMedia = \"Reprovado\" if mediaAluno<7 else \"Aprovado\" if mediaAluno>=7 and mediaAluno<10 else \"Aprovado com Distinção\"\n",
        "\n",
        "print(mediaAluno, resulMedia)"
      ],
      "metadata": {
        "id": "jawQv4z2norf"
      },
      "execution_count": null,
      "outputs": []
    },
    {
      "cell_type": "markdown",
      "source": [
        "6. Faça um Programa que leia três números e mostre o maior deles."
      ],
      "metadata": {
        "id": "xw8-Un_5ny-Q"
      }
    },
    {
      "cell_type": "code",
      "source": [
        "num1 = float(input('Digite o primeiro número: '))\n",
        "num2 = float(input('Digite o segundo número: '))\n",
        "num3 = float(input('Digite o terceiro número: '))\n",
        "\n",
        "maiorNum = num1 if num1>num2 and num1>num3 else num2 if num2>num1 and num2>num3 else num3\n",
        "print(maiorNum)"
      ],
      "metadata": {
        "id": "--FWy29An4wN"
      },
      "execution_count": null,
      "outputs": []
    },
    {
      "cell_type": "markdown",
      "source": [
        "7. Faça um Programa que leia três números e mostre o maior e o menor deles."
      ],
      "metadata": {
        "id": "tUjBOTK4n9Uy"
      }
    },
    {
      "cell_type": "code",
      "source": [
        "num1 = float(input('Digite o primeiro número: '))\n",
        "num2 = float(input('Digite o segundo número: '))\n",
        "num3 = float(input('Digite o terceiro número: '))\n",
        "\n",
        "menorNum = num1 if num1<num2 and num1<num3 else num2 if num2<num1 and num2<num3 else num3\n",
        "print(menorNum)"
      ],
      "metadata": {
        "id": "iWfVloruoCtq"
      },
      "execution_count": null,
      "outputs": []
    },
    {
      "cell_type": "markdown",
      "source": [
        "8. Faça um programa que pergunte o preço de três produtos e informe qual produto você deve comprar, sabendo que a decisão é sempre pelo mais barato."
      ],
      "metadata": {
        "id": "5Gn_FMW2oDC2"
      }
    },
    {
      "cell_type": "code",
      "source": [
        "preco1 = float(input('Digite o primeiro preço: '))\n",
        "preco2 = float(input('Digite o segundo preço: '))\n",
        "preco3 = float(input('Digite o terceiro preço: '))\n",
        "\n",
        "menorPreco = preco1 if preco1<preco2 and preco1<preco3 else preco2 if preco2<preco1 and preco2<preco3 else preco3\n",
        "print(menorPreco)"
      ],
      "metadata": {
        "id": "_wkq2geDoODs"
      },
      "execution_count": null,
      "outputs": []
    },
    {
      "cell_type": "markdown",
      "source": [
        "9. Faça um Programa que leia três números e mostre-os em ordem decrescente."
      ],
      "metadata": {
        "id": "Nulh-hmaoOrO"
      }
    },
    {
      "cell_type": "code",
      "source": [
        "listNum = []\n",
        "num1 = listNum.append(float(input('Digite o primeiro número: ')))\n",
        "num2 = listNum.append(float(input('Digite o segundo número: ')))\n",
        "num3 = listNum.append(float(input('Digite o terceiro número: ')))\n",
        "\n",
        "ordList = listNum.sort(reverse=True)\n",
        "print(listNum)"
      ],
      "metadata": {
        "id": "RSvJuY6hoWXy"
      },
      "execution_count": null,
      "outputs": []
    },
    {
      "cell_type": "markdown",
      "source": [
        "10. Faça um Programa que pergunte em que turno você estuda. Peça para digitar M-matutino ou V-Vespertino ou N- Noturno. Imprima a mensagem \"Bom Dia!\", \"Boa Tarde!\" ou \"Boa Noite!\" ou \"Valor Inválido!\", conforme o caso."
      ],
      "metadata": {
        "id": "G018F7puoXpv"
      }
    },
    {
      "cell_type": "code",
      "source": [
        "turno = input('Digite qual seu turno use M-matutino ou V-Vespertino ou N- Noturno: ')\n",
        "\n",
        "mensagem = 'Bom Dia!' if turno.lower()=='matutino' or turno.lower()=='m' or turno.lower()=='m-matutino' \\\n",
        "    else 'Boa Tarde!' if turno.lower()=='vespertino' or turno.lower()=='v' or turno.lower()=='v-vespertino' \\\n",
        "    else 'Boa Noite!' if turno.lower()=='noturno' or turno.lower()=='n' or turno.lower()=='n-noturno' \\\n",
        "    else 'Você digitou um turno que não existe, por favor use M-matutino ou V-Vespertino ou N- Noturno'\n",
        "    # [TO DO] - Criar uma estrutura de repetição para caso a pessoa não digitar certo poder tentar de novo sem precisar executar o código novamente \n",
        "    \n",
        "print(mensagem)"
      ],
      "metadata": {
        "id": "xjdIiFQjocCq"
      },
      "execution_count": null,
      "outputs": []
    },
    {
      "cell_type": "markdown",
      "source": [
        "11. As Organizações Tabajara resolveram dar um aumento de salário aos seus colaboradores e lhe contraram para desenvolver o programa que calculará os reajustes.\n",
        "Faça um programa que recebe o salário de um colaborador e o reajuste segundo o seguinte critério, baseado no salário atual:\n",
        "- salários até $RS 280,00$ (incluindo) : aumento de 20%\n",
        "- salários entre $RS 280,00$ e $RS 700,00$ : aumento de 15%\n",
        "- salários entre $RS 700,00$ e $RS 1500,00$ : aumento de 10%\n",
        "- salários de R$ 1500,00 em diante : aumento de 5% Após o aumento ser - realizado, informe na tela:\n",
        "  - o salário antes do reajuste;\n",
        "  - o percentual de aumento aplicado;\n",
        "  - o valor do aumento;\n",
        "  - o novo salário, após o aumento."
      ],
      "metadata": {
        "id": "MAtYhCldojAQ"
      }
    },
    {
      "cell_type": "code",
      "source": [
        "salario = float(input('Digite o seu salário atual: R$ '))\n",
        "\n",
        "if salario in range(0,281):\n",
        "  percent = 20\n",
        "  valorAumento = (salario*20)/100\n",
        "  novoSalario = salario + ((salario*20)/100)\n",
        "elif salario in range(281,700):\n",
        "  percent = 15\n",
        "  valorAumento = (salario*15)/100\n",
        "  novoSalario = salario + ((salario*15)/100)\n",
        "elif salario in range(700,1500):\n",
        "  percent = 10\n",
        "  valorAumento = (salario*10)/100\n",
        "  novoSalario = salario + ((salario*10)/100)\n",
        "else:\n",
        "  percent = 5\n",
        "  valorAumento = (salario*5)/100\n",
        "  novoSalario = salario + ((salario*5)/100)\n",
        "\n",
        "print(f'salário antes do reajuste: R$',salario)\n",
        "print(f'percentual de aumento aplicado: R$', percent)\n",
        "print(f'valor do aumento: R$', valorAumento)\n",
        "print(f'salário após aumento', novoSalario)"
      ],
      "metadata": {
        "id": "Ylf8rIwdomu8"
      },
      "execution_count": null,
      "outputs": []
    },
    {
      "cell_type": "markdown",
      "source": [
        "12. Faça um programa para o cálculo de uma folha de pagamento, sabendo que os descontos são do Imposto de Renda, que depende do salário bruto (conforme tabela abaixo) e 3% para o Sindicato e que o FGTS corresponde a 11% do Salário Bruto, mas não é descontado (é a empresa que deposita). O Salário Líquido corresponde ao Salário Bruto menos os descontos. O programa deverá pedir ao usuário o valor da sua hora e a quantidade de horas trabalhadas no mês.\n",
        "Desconto do IR:\n",
        "- Salário Bruto até 900 (inclusive) - isento\n",
        "- Salário Bruto até 1500 (inclusive) - desconto de 5%\n",
        "- Salário Bruto até 2500 (inclusive) - desconto de 10%\n",
        "- Salário Bruto acima de 2500 - desconto de 20% Imprima na tela as informações, dispostas conforme o exemplo abaixo. No exemplo o valor da hora é 5 e a quantidade de hora é 220.\n",
        "\n",
        "        Salário Bruto: (5 * 220)        : R$ 1100,00\n",
        "        (-) IR (5%)                     : R$   55,00  \n",
        "        (-) INSS ( 10%)                 : R$  110,00\n",
        "        FGTS (11%)                      : R$  121,00\n",
        "        Total de descontos              : R$  165,00\n",
        "        Salário Liquido                 : R$  935,00"
      ],
      "metadata": {
        "id": "BXKjAd2qowa9"
      }
    },
    {
      "cell_type": "code",
      "source": [
        "valorHora = float(input('Digite o valor da hora trabalhada: R$ '))\n",
        "quantidadeHora = int(input('Digite a quantidade de horas trabalhadas no mês: R$ '))\n",
        "\n",
        "salarioBruto = valorHora * quantidadeHora\n",
        "INSS = 10/100\n",
        "FGTS = 11/100\n",
        "\n",
        "if salarioBruto in range(0,901):\n",
        "  IR = 0\n",
        "elif salarioBruto in range(901,1501):\n",
        "  IR = 5/100\n",
        "  print(IR)\n",
        "elif salarioBruto in range(1501,2501):\n",
        "  IR = 10/100\n",
        "else:\n",
        "  IR =20/100\n",
        "\n",
        "print(f'Salário Bruto:', salarioBruto)\n",
        "print(f'IR: ', IR *salarioBruto)\n",
        "print(f'INSS: ', INSS * salarioBruto)\n",
        "print(f'FGTS: ', salarioBruto * FGTS)\n",
        "print(f'Total de descontos: ', (IR*salarioBruto) + (INSS*salarioBruto))\n",
        "print(f'Salário Liquido', salarioBruto - ((IR*salarioBruto) + (INSS*salarioBruto)))"
      ],
      "metadata": {
        "id": "YaknSrBYo0ps"
      },
      "execution_count": null,
      "outputs": []
    },
    {
      "cell_type": "markdown",
      "source": [
        "13. Faça um Programa que leia um número e exiba o dia correspondente da semana. (1-Domingo, 2- Segunda, etc.), se digitar outro valor deve aparecer valor inválido."
      ],
      "metadata": {
        "id": "jeSh-tBZo7rh"
      }
    },
    {
      "cell_type": "code",
      "source": [
        "num = int(input('Digite um número entre 1 e 7: '))\n",
        "\n",
        "dia = 'Domingo' if num==1 \\\n",
        " else 'Segunda' if num==2 \\\n",
        " else 'Terça' if num==3 \\\n",
        " else 'Quarta' if num==4 \\\n",
        " else 'Quinta' if num==5 \\\n",
        " else 'Sexta' if num==6 \\\n",
        " else 'Sábado' if num==7 \\\n",
        " else 'Você não digitou um número entra 1 e 7.'\n",
        "\n",
        "print(dia)"
      ],
      "metadata": {
        "id": "hJEcLq7Do_md"
      },
      "execution_count": null,
      "outputs": []
    },
    {
      "cell_type": "markdown",
      "source": [
        "14. Faça um programa que lê as duas notas parciais obtidas por um aluno numa disciplina ao longo de um semestre, e calcule a sua média. A atribuição de conceitos obedece à tabela abaixo:\n",
        "\n",
        "```\n",
        "   Média de Aproveitamento  Conceito\n",
        "  Entre 9.0 e 10.0        A\n",
        "  Entre 7.5 e 9.0         B\n",
        "  Entre 6.0 e 7.5         C\n",
        "  Entre 4.0 e 6.0         D\n",
        "  Entre 4.0 e zero        E\n",
        "```\n",
        "\n",
        "O algoritmo deve mostrar na tela as notas, a média, o conceito correspondente e a mensagem “APROVADO” se o conceito for A, B ou C ou “REPROVADO” se o conceito for D ou E.\n",
        "\n",
        "\n"
      ],
      "metadata": {
        "id": "eeZbgx8xpFa6"
      }
    },
    {
      "cell_type": "code",
      "source": [
        "nota1 = float(input('Digite a primeira nota: '))\n",
        "nota2 = float(input('Digite a segunda nota: '))\n",
        "\n",
        "media = (nota1 + nota2)/2\n",
        "\n",
        "if media>=9.0 and media <=10.0:\n",
        "    print(f'media: {round(media, 2)} \\nconceito: A\\nsituação: APROVADO')\n",
        "elif media>=7.5 and media <9:\n",
        "    print(f'media: {round(media, 2)} \\nconceito: B\\nsituação: APROVADO')\n",
        "elif media>=6.0 and media <7.5:\n",
        "    print(f'media: {round(media, 2)} \\nconceito: C\\nsituação: APROVADO')\n",
        "elif media>=4.0 and media <6.0:\n",
        "    print(f'media: {round(media, 2)} \\nconceito: D\\nsituação: REPROVADO')\n",
        "elif media>=0 and media <4.0:\n",
        "    print(f'media: {round(media, 2)} \\nconceito: E\\nsituação: REPROVADO')\n",
        "else:\n",
        "  print('Você não digitou uma notra valida')"
      ],
      "metadata": {
        "id": "3aAAsF4jpEY0"
      },
      "execution_count": null,
      "outputs": []
    },
    {
      "cell_type": "markdown",
      "source": [
        "15. Faça um Programa que peça os 3 lados de um triângulo. O programa deverá informar se os valores podem ser um triângulo. Indique, caso os lados formem um triângulo, se o mesmo é: equilátero, isósceles ou escaleno.\n",
        "Dicas:\n",
        "- Três lados formam um triângulo quando a soma de quaisquer dois lados for maior que o terceiro;\n",
        "- Triângulo Equilátero: três lados iguais;\n",
        "- Triângulo Isósceles: quaisquer dois lados iguais;\n",
        "- Triângulo Escaleno: três lados diferentes;"
      ],
      "metadata": {
        "id": "oZ5So4w8pSGA"
      }
    },
    {
      "cell_type": "code",
      "source": [
        "lado1 = int(input('Digite o 1º lado do triângulo: '))\n",
        "lado2 = int(input('Digite o 1º lado do triângulo: '))\n",
        "lado3 = int(input('Digite o 1º lado do triângulo: '))\n",
        "\n",
        "# Verificar se é triângulo >>> Três lados formam um triângulo quando a soma de quaisquer dois lados for maior que o terceiro\n",
        "if lado1+lado2 > lado3:\n",
        "  print('É um triângulo')\n",
        "  if lado1==lado2 and lado1==lado3:\n",
        "    print('É um triângulo equilátero')\n",
        "  elif lado1==lado2 or lado1==lado3 or lado2==lado3:\n",
        "    print('É um triângulo Isósceles')\n",
        "  else:\n",
        "    print('É um triângulo Escaleno')\n",
        "else:\n",
        "  print('Não é um triângulo')"
      ],
      "metadata": {
        "id": "ff3r0XeMpEM5"
      },
      "execution_count": null,
      "outputs": []
    },
    {
      "cell_type": "markdown",
      "source": [
        "16. Faça um programa que calcule as raízes de uma equação do segundo grau, na forma ax2 + bx + c. O programa deverá pedir os valores de a, b e c e fazer as consistências, informando ao usuário nas seguintes situações:\n",
        "- Se o usuário informar o valor de A igual a zero, a equação não é do segundo grau e o programa não deve fazer pedir os demais valores, sendo encerrado;\n",
        "- Se o delta calculado for negativo, a equação não possui raizes reais. Informe ao usuário e encerre o programa;\n",
        "- Se o delta calculado for igual a zero a equação possui apenas uma raiz real; informe-a ao usuário;\n",
        "- Se o delta for positivo, a equação possui duas raiz reais; informe-as ao usuário;"
      ],
      "metadata": {
        "id": "Vc9qJJeppXcm"
      }
    },
    {
      "cell_type": "code",
      "source": [
        "import cmath\n",
        "a = int(input('Digite o valor de a: '))\n",
        "x= 1\n",
        "\n",
        "if a==0:\n",
        "  print('A equação não é do segundo grau')\n",
        "else:\n",
        "  b = int(input('Digite o valor de b: '))\n",
        "  c = int(input('Digite o valor de c: '))\n",
        "\n",
        "  delta = (b**2) - 4*(a*c)\n",
        "  print(delta)\n",
        "  raizPositiva = ((-b + cmath.sqrt(delta))/(2*a))\n",
        "  raizNegativa = ((-b - cmath.sqrt(delta))/(2*a))\n",
        "\n",
        "  if delta<0:\n",
        "    print('A equação não possui raizes reais')\n",
        "  elif delta==0:\n",
        "    print('A equação possui apenas 1 raiz real igual a:', delta)\n",
        "  else:\n",
        "    print(f'a equação possui duas raiz reais: {raizPositiva} e {raizNegativa}')\n",
        "    #[TO DO] - Mostrar apenas a parte real das raizes"
      ],
      "metadata": {
        "id": "BNhUE_o9psKG"
      },
      "execution_count": null,
      "outputs": []
    },
    {
      "cell_type": "markdown",
      "source": [
        "17. Faça um Programa que peça um número correspondente a um determinado ano e em seguida informe se este ano é ou não bissexto."
      ],
      "metadata": {
        "id": "98Zwn1dZpz6O"
      }
    },
    {
      "cell_type": "code",
      "source": [
        "ano = int(input('Digite um ano: '))\n",
        "\n",
        "result = 'É bissexto' if ano%4==0 else 'Não é bissexto'\n",
        "\n",
        "print(result)"
      ],
      "metadata": {
        "id": "KgGW48LwqNqu"
      },
      "execution_count": null,
      "outputs": []
    },
    {
      "cell_type": "markdown",
      "source": [
        "18. Faça um Programa que peça uma data no formato dd/mm/aaaa e determine se a mesma é uma data válida."
      ],
      "metadata": {
        "id": "gW02O6k2qRMI"
      }
    },
    {
      "cell_type": "code",
      "source": [
        "from datetime import date\n",
        "\n",
        "# [TO DO] >>> melhorar esse código\n",
        "\n",
        "dia = int(input('Digite o dia: '))\n",
        "mes = int(input('Digite o mes: '))\n",
        "ano = int(input('Digite o ano: '))\n",
        "\n",
        "data = (datetime.date(ano, mes, dia))\n",
        "dataBr = data.strftime('%d/%m/%Y')\n",
        "\n",
        "if dataBr == data.strftime('%d/%m/%Y'):\n",
        "  print(dataBr)\n",
        "else:\n",
        "  print('Você não digitou uma data válida.')"
      ],
      "metadata": {
        "id": "r3f4xVCsqUX9"
      },
      "execution_count": null,
      "outputs": []
    },
    {
      "cell_type": "markdown",
      "source": [
        "19. Faça um Programa que leia um número inteiro menor que 1000 e imprima a quantidade de centenas, dezenas e unidades do mesmo.\n",
        "Observando os termos no plural a colocação do \"e\", da vírgula entre outros. Exemplo:\n",
        "- 326 = 3 centenas, 2 dezenas e 6 unidades\n",
        "- 12 = 1 dezena e 2 unidades Testar com: 326, 300, 100, 320, 310,305, 301, 101, 311, 111, 25, 20, 10, 21, 11, 1, 7 e 16"
      ],
      "metadata": {
        "id": "vw-eIrTJqjpY"
      }
    },
    {
      "cell_type": "code",
      "source": [
        "num = list(input('Digite um número inteiro de até 3 digitos: '))\n",
        "print(num)\n",
        "# num com 1 digito\n",
        "if len(num) == 1:\n",
        "  centena = 0\n",
        "  dezena = 0\n",
        "  unidade = int(num[0])//1\n",
        "  # escrita no plural ou singular\n",
        "  if unidade==1 or unidade==0:\n",
        "    print(f'{centena} centena, {dezena} dezena e {unidade} unidade.')\n",
        "  else:\n",
        "    print(f'{centena} centena, {dezena} dezena e {unidade} unidades.')\n",
        "# num com 2 digitos\n",
        "elif len(num) == 2:\n",
        "  centena = 0\n",
        "  dezena = int(num[0])//1\n",
        "  unidade = int(num[1])//1\n",
        "  # escrita no plural ou singular\n",
        "  if (unidade==0 or unidade==1) and (dezena==1 or dezena==0):\n",
        "    print(f'{centena} centena, {dezena} dezena e {unidade} unidade.')\n",
        "  elif (unidade==0 or unidade==1) and dezena>1:\n",
        "    print(f'{centena} centena, {dezena} dezenas e {unidade} unidade.')\n",
        "  elif unidade>1 and (dezena==1 or dezena==0):\n",
        "    print(f'{centena} centena, {dezena} dezena e {unidade} unidades.') \n",
        "  else:\n",
        "    print(f'{centena} centena, {dezena} dezenas e {unidade} unidades.')\n",
        "# num com 3 digitos\n",
        "elif len(num) == 3:\n",
        "  centena = int(num[0])//1\n",
        "  dezena = int(num[1])//1\n",
        "  unidade = int(num[2])//1\n",
        "  if (unidade==1 or unidade==0) and (dezena==1 or dezena==0) and (centena==1 or centena==0):\n",
        "    print(f'{centena} centena, {dezena} dezena e {unidade} unidade.')\n",
        "  elif centena>1 and dezena>1 and unidade>1:\n",
        "    print(f'{centena} centenas, {dezena} dezenas e {unidade} unidades.')\n",
        "  elif (centena==1 or centena==0) and dezena>1 and (unidade==1 or unidade==0):\n",
        "    print(f'{centena} centena, {dezena} dezenas e {unidade} unidade.')\n",
        "  elif centena>1 and (dezena==1 or dezena==0) and (unidade==1 or unidade==0):\n",
        "    print(f'{centena} centenas, {dezena} dezena e {unidade} unidade.')\n",
        "  elif (centena==1 or centena==0) and (dezena==1 or dezena==0) and unidade>1:\n",
        "    print(f'{centena} centena, {dezena} dezena e {unidade} unidades.')\n",
        "  elif (centena==1 or centena==0) and dezena>1 and unidade>1:\n",
        "    print(f'{centena} centena, {dezena} dezenas e {unidade} unidades.')\n",
        "  elif centena>1 and (dezena==1 or dezena==0) and unidade>1:\n",
        "    print(f'{centena} centenas, {dezena} dezena e {unidade} unidades.')\n",
        "  else:\n",
        "    print(f'{centena} centenas, {dezena} dezenas e {unidade} unidade.')\n",
        "else:\n",
        "  print('Você não digitou um número inteiro de até 3 digitos')"
      ],
      "metadata": {
        "id": "7E_dXsp2qjHk"
      },
      "execution_count": null,
      "outputs": []
    },
    {
      "cell_type": "markdown",
      "source": [
        "20. Faça um Programa para leitura de três notas parciais de um aluno. O programa deve calcular a média alcançada por aluno e presentar:\n",
        "- A mensagem \"Aprovado\", se a média for maior ou igual a 7, com a respectiva média alcançada;\n",
        "- A mensagem \"Reprovado\", se a média for menor do que 7, com a respectiva média alcançada;\n",
        "- A mensagem \"Aprovado com Distinção\", se a média for igual a 10."
      ],
      "metadata": {
        "id": "oVflzif4q3Km"
      }
    },
    {
      "cell_type": "code",
      "source": [
        "nota1 = float(input('Digite a primeira nota: '))\n",
        "nota2 = float(input('Digite a segunda nota: '))\n",
        "nota3 = float(input('Digite a terceira nota: '))\n",
        "\n",
        "media = (nota1+nota2+nota3)/3\n",
        "\n",
        "result = \"Reprovado\" if media<7 else \"Aprovado\" if media>=7 and media<10 else \"Aprovado com Distinção\"\n",
        "\n",
        "print(round(media, 2), result)"
      ],
      "metadata": {
        "id": "FKArTAdjq7To"
      },
      "execution_count": null,
      "outputs": []
    },
    {
      "cell_type": "markdown",
      "source": [
        "21. Faça um Programa para um caixa eletrônico. O programa deverá perguntar ao usuário a valor do saque e depois informar quantas notas de cada valor serão fornecidas. As notas disponíveis serão as de 1, 5, 10, 50 e 100 reais. O valor mínimo é de 10 reais e o máximo de 600 reais. O programa não deve se preocupar com a quantidade de notas existentes na máquina.\n",
        "- Exemplo 1: Para sacar a quantia de 256 reais, o programa fornece duas notas de 100, uma nota de 50, uma nota de 5 e uma nota de 1;\n",
        "- Exemplo 2: Para sacar a quantia de 399 reais, o programa fornece três notas de 100, uma nota de 50, quatro notas de 10, uma nota de 5 e quatro notas de 1."
      ],
      "metadata": {
        "id": "EVX5ktHRrDkT"
      }
    },
    {
      "cell_type": "code",
      "source": [
        "valorSaque = float(input('Digite o valor que deseja realizar o saque: R$ '))\n",
        "# valor mínimo de saque 10 reais e o máximo é de 600 reais.\n",
        "\"\"\"\n",
        "[TO DO] \n",
        ">>> TERMINAR DE RESOLVER\n",
        "\"\"\""
      ],
      "metadata": {
        "id": "gwVx_BKUrDIa"
      },
      "execution_count": null,
      "outputs": []
    },
    {
      "cell_type": "markdown",
      "source": [
        "22. Faça um Programa que peça um número inteiro e determine se ele é par ou impar. Dica: utilize o operador módulo (resto da divisão)."
      ],
      "metadata": {
        "id": "anNZ-7RLrT3l"
      }
    },
    {
      "cell_type": "code",
      "source": [
        "num = int(input('Digite um número inteiro: '))\n",
        "\n",
        "result = 'Par' if num%2==0 else 'Impar'\n",
        "print(result)"
      ],
      "metadata": {
        "id": "IYb7DCIUrTZ6"
      },
      "execution_count": null,
      "outputs": []
    },
    {
      "cell_type": "markdown",
      "source": [
        "23. Faça um Programa que peça um número e informe se o número é inteiro ou decimal. Dica: utilize uma função de arredondamento."
      ],
      "metadata": {
        "id": "Xg8OQVb9rc5c"
      }
    },
    {
      "cell_type": "code",
      "source": [
        "num = float(input('Digite um número: '))\n",
        "\n",
        "# Um número num vai ser inteiro quando ele for igual ao seu número arredondado\n",
        "if num == round(num):\n",
        "  print(f'{int(num)} é um número inteiro')\n",
        "else:\n",
        "  print(f'{num} é um número decimal')"
      ],
      "metadata": {
        "id": "MPnM4bv0rfSz"
      },
      "execution_count": null,
      "outputs": []
    },
    {
      "cell_type": "markdown",
      "source": [
        "24. Faça um Programa que leia 2 números e em seguida pergunte ao usuário qual operação ele deseja realizar. O resultado da operação deve ser acompanhado de uma frase que diga se o número é:\n",
        "- par ou ímpar;\n",
        "- positivo ou negativo;\n",
        "- inteiro ou decimal."
      ],
      "metadata": {
        "id": "440xbXplrsE2"
      }
    },
    {
      "cell_type": "code",
      "source": [
        "num1 = float(input('Digite o primeiro número: '))\n",
        "num2 = float(input('Digite o segundo número: '))\n",
        "operacao = input(\"Qual operação você deseja realizar? \")\n",
        "\n",
        "divisao = num1/num2\n",
        "\n",
        "if operacao.lower()=='soma':\n",
        "  soma = num1+num2\n",
        "  # par ou impar >>> soma\n",
        "  parOrImpar = 'Par'if soma%2==0 else 'Ímpar'\n",
        "  # positivo ou negativo >>> soma\n",
        "  posOrNeg = 'Positivo' if soma>0 else 'Negativo'\n",
        "  #Inteiro ou negativo >>> soma\n",
        "  intOrDec = 'Inteiro' if soma==round(soma) else 'Decimal'\n",
        "  print(f'A soma de {num1} por {num2} vale  {soma}. Esse valor  {soma} é {parOrImpar}, {posOrNeg} e {intOrDec}')\n",
        "elif operacao.lower()=='subtracao':\n",
        "  subtracao= num1-num2\n",
        "  # par ou impar >>> subtração\n",
        "  parOrImpar = 'Par'if subtracao%2==0 else 'Ímpar'\n",
        "  # positivo ou negativo >>> subtração\n",
        "  posOrNeg = 'Positivo' if subtracao>0 else 'Negativo'\n",
        "  #Inteiro ou negativo >>> subtração\n",
        "  intOrDec = 'Inteiro' if subtracao==round(subtracao) else 'Decimal'\n",
        "  print(f'A subtração de {num1} por {num2} vale {subtracao}. Esse valor {subtracao} é {parOrImpar}, {posOrNeg} e {intOrDec}')\n",
        "elif operacao.lower()=='multiplicacao':\n",
        "  multiplicacao = num1*num2\n",
        "  # par ou impar >>> multiplicação\n",
        "  parOrImpar = 'Par'if multiplicacao%2==0 else 'Ímpar'\n",
        "  # positivo ou negativo >>> multiplicação\n",
        "  posOrNeg = 'Positivo' if multiplicacao>0 else 'Negativo'\n",
        "  #Inteiro ou negativo >>> multiplicação\n",
        "  intOrDec = 'Inteiro' if multiplicacao==round(multiplicacao) else 'Decimal'\n",
        "  print(f'A multiplicação de {num1} por {num2} vale {multiplicacao}. Esse valor {multiplicacao} é {parOrImpar}, {posOrNeg} e {intOrDec}')\n",
        "elif operacao.lower()=='divisao':\n",
        "  divisao = num1/num2\n",
        "  # par ou impar >>> divisão\n",
        "  parOrImpar = 'Par'if divisao%2==0 else 'Ímpar'\n",
        "  # positivo ou negativo >>> divisão\n",
        "  posOrNeg = 'Positivo' if divisao>0 else 'Negativo'\n",
        "  #Inteiro ou negativo >>> divisão\n",
        "  intOrDec = 'Inteiro' if divisao==round(divisao) else 'Decimal'\n",
        "  print(f'A divisão de {num1} por {num2} vale {divisao}. Esse valor {divisao} é {parOrImpar}, {posOrNeg} e {intOrDec}')\n",
        "else:\n",
        "  print('Você não digitou uma operação valída')"
      ],
      "metadata": {
        "id": "dy1ORI__rthE"
      },
      "execution_count": null,
      "outputs": []
    },
    {
      "cell_type": "markdown",
      "source": [
        "25. Faça um programa que faça 5 perguntas para uma pessoa sobre um crime. As perguntas são:\n",
        "- \"Telefonou para a vítima?\"\n",
        "- \"Esteve no local do crime?\"\n",
        "- \"Mora perto da vítima?\"\n",
        "- \"Devia para a vítima?\"\n",
        "- \"Já trabalhou com a vítima?\" \n",
        "\n",
        "O programa deve no final emitir uma classificação sobre a participação da pessoa no crime. Se a pessoa responder positivamente a 2 questões ela deve ser classificada como \"Suspeita\", entre 3 e 4 como \"Cúmplice\" e 5 como \"Assassino\". Caso contrário, ele será classificado como \"Inocente\"."
      ],
      "metadata": {
        "id": "7l353ttAr6_e"
      }
    },
    {
      "cell_type": "code",
      "source": [
        "telefonou = input('Você telefonou para a vítima? Digite [Sim ou Não]: ')\n",
        "local = input('Você esteve no local do crime? Digite [Sim ou Não]: ')\n",
        "mora = input('Você mora perto da vítima? Digite [Sim ou Não]: ')\n",
        "devia = input('Você devia para a vítima? Digite [Sim ou Não]: ')\n",
        "trabalhou = input('Você já trabalhou com a vítima? Digite [Sim ou Não]: ')\n",
        "\n",
        "respostas = []\n",
        "\n",
        "respostas.append(telefonou.lower())\n",
        "respostas.append(local.lower())\n",
        "respostas.append(mora.lower())\n",
        "respostas.append(devia.lower())\n",
        "respostas.append(trabalhou.lower())\n",
        "\n",
        "print(respostas)\n",
        "\n",
        "classificacao = respostas.count('sim')\n",
        "print(classificacao)\n",
        "\n",
        "sentenca = 'Suspeito(a)' if classificacao==2 else 'Cúmplice' if classificacao in range(3,5) else 'Assassino' if classificacao==5 else 'Inocente'\n",
        "print(sentenca)"
      ],
      "metadata": {
        "id": "9mPmdoszr805"
      },
      "execution_count": null,
      "outputs": []
    },
    {
      "cell_type": "markdown",
      "source": [
        "26. Um posto está vendendo combustíveis com a seguinte tabela de descontos:\n",
        "- Álcool:\n",
        "  - até 20 litros, desconto de 3% por litro\n",
        "  - acima de 20 litros, desconto de 5% por litro\n",
        "- Gasolina:\n",
        "  - até 20 litros, desconto de 4% por litro\n",
        "  - acima de 20 litros, desconto de 6% por litro \n",
        "  \n",
        "  Escreva um algoritmo que leia o número de litros vendidos, o tipo de combustível (codificado da seguinte forma: A-álcool, G-gasolina), calcule e imprima o valor a ser pago pelo cliente sabendo-se que o preço do litro da gasolina é $RS 2,50$ o preço do litro do álcool é $RS 1,90$."
      ],
      "metadata": {
        "id": "9-887udgsDDb"
      }
    },
    {
      "cell_type": "code",
      "source": [
        "litrosVendidos = float(input('Digite o número de litros vendidos: '))\n",
        "tipoCombustivel = input('Digite o tipo do combustível que foi vendido: ')\n",
        "\n",
        "gasolina = 2.50\n",
        "alcool = 1.90\n",
        "\n",
        "if tipoCombustivel.lower()=='álcool' or tipoCombustivel.lower()=='alcool' or tipoCombustivel.lower()=='a':\n",
        "  valorTotal = alcool*litrosVendidos\n",
        "  desconto = valorTotal - valorTotal*(3/100) if litrosVendidos<=20 else valorTotal - valorTotal*(5/100)\n",
        "  print(valorTotal, desconto)\n",
        "elif tipoCombustivel.lower()=='gasolina' or tipoCombustivel.lower()=='g':\n",
        "  valorTotal = gasolina*litrosVendidos\n",
        "  desconto = valorTotal - valorTotal*(4/100) if litrosVendidos<=20 else valorTotal - valorTotal*(6/100)\n",
        "  print(valorTotal, desconto)\n",
        "else:\n",
        "  print('Não trabalhamos com esse tipo de combustível.')\n",
        "\n",
        "\"\"\"[TO DO]\n",
        "\n",
        "Conferir se a lógica do desconto esta certa.\n",
        "\"\"\""
      ],
      "metadata": {
        "id": "HvksvFMrsHZq"
      },
      "execution_count": null,
      "outputs": []
    },
    {
      "cell_type": "markdown",
      "source": [
        "27. Uma fruteira está vendendo frutas com a seguinte tabela de preços:\n",
        "\n",
        "\n",
        "\n",
        "```\n",
        "                      Até 5 Kg           Acima de 5 Kg\n",
        "Morango         R$ 2,50 por Kg          R$ 2,20 por Kg\n",
        "Maçã            R$ 1,80 por Kg          R$ 1,50 por Kg\n",
        "```\n",
        "\n",
        "Se o cliente comprar mais de 8 Kg em frutas ou o valor total da compra ultrapassar R$ 25,00, receberá ainda um desconto de 10% sobre este total. Escreva um algoritmo para ler a quantidade (em Kg) de morangos e a quantidade (em Kg) de maças adquiridas e escreva o valor a ser pago pelo cliente."
      ],
      "metadata": {
        "id": "uz_wZ3z-sQNN"
      }
    },
    {
      "cell_type": "code",
      "source": [
        "qntMacas = int(input('Digite a quantidade (em Kg) de maças adquiridas: '))\n",
        "qntMorangos = int(input('Digite a quantidade (em Kg) de morangos adquiridas: '))\n",
        "\n",
        "qntTotal = qntMacas + qntMorangos\n",
        "\n",
        "if qntTotal>8 or qntTotal>25:\n",
        "  desconto = 10/100\n",
        "\n",
        "\"\"\"\n",
        "[TO DO]\n",
        "\n",
        "- Terminar lógica\n",
        "\"\"\""
      ],
      "metadata": {
        "id": "QQcNQQMCsTgm"
      },
      "execution_count": null,
      "outputs": []
    },
    {
      "cell_type": "markdown",
      "source": [
        "28. O Hipermercado Tabajara está com uma promoção de carnes que é imperdível. Confira:\n",
        "\n",
        "```\n",
        "                      Até 5 Kg           Acima de 5 Kg\n",
        "File Duplo      R$ 4,90 por Kg          R$ 5,80 por Kg\n",
        "Alcatra         R$ 5,90 por Kg          R$ 6,80 por Kg\n",
        "Picanha         R$ 6,90 por Kg          R$ 7,80 por Kg\n",
        "```\n",
        "\n",
        "Para atender a todos os clientes, cada cliente poderá levar apenas um dos tipos de carne da promoção, porém não há limites para a quantidade de carne por cliente. Se compra for feita no cartão Tabajara o cliente receberá ainda um desconto de 5% sobre o total da compra. Escreva um programa que peça o tipo e a quantidade de carne comprada pelo usuário e gere um cupom fiscal, contendo as informações da compra: tipo e quantidade de carne, preço total, tipo de pagamento, valor do desconto e valor a pagar."
      ],
      "metadata": {
        "id": "8y9olHBNspRM"
      }
    },
    {
      "cell_type": "code",
      "source": [],
      "metadata": {
        "id": "SeLBta1bssZI"
      },
      "execution_count": null,
      "outputs": []
    }
  ]
}