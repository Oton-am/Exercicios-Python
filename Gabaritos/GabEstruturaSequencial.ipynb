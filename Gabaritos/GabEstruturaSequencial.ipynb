{
  "cells": [
    {
      "cell_type": "markdown",
      "metadata": {
        "id": "hJQexUYHVNtB"
      },
      "source": [
        "1. Faça um Programa que mostre a mensagem \"Alo mundo\" na tela."
      ]
    },
    {
      "cell_type": "code",
      "execution_count": null,
      "metadata": {
        "id": "7TrWgfD7Ukh7"
      },
      "outputs": [],
      "source": [
        "print(\"Alo mundo\")"
      ]
    },
    {
      "cell_type": "markdown",
      "metadata": {
        "id": "WHTtJzS7VVib"
      },
      "source": [
        "2. Faça um Programa que peça um número e então mostre a mensagem \"O número informado foi [número]\"."
      ]
    },
    {
      "cell_type": "code",
      "execution_count": null,
      "metadata": {
        "id": "ksTVwmVoVVAY"
      },
      "outputs": [],
      "source": [
        "# Pedindo ao usuario para digitar um numero\n",
        "num = input('Digite um número: ')\n",
        "\n",
        "# Retorna o numero digitado\n",
        "print(f'O número informado foi', num)"
      ]
    },
    {
      "cell_type": "markdown",
      "metadata": {
        "id": "aSO7cQRcVgL7"
      },
      "source": [
        "3. Faça um Programa que peça dois números e imprima a soma."
      ]
    },
    {
      "cell_type": "code",
      "execution_count": null,
      "metadata": {
        "id": "nWTIvFvIVkFR"
      },
      "outputs": [],
      "source": [
        "# Pedindo ao usuario para digitar 2 numeros\n",
        "num1 = int(input('Digite o primeiro número: '))\n",
        "num2 = int(input('Digite o segundo número: '))\n",
        "\n",
        "# Retorna a soma dos dois numeros digitados\n",
        "print(f'A soma de {num1} e {num2} vale', num1+num2)"
      ]
    },
    {
      "cell_type": "markdown",
      "metadata": {
        "id": "ZM5-e5fTVzuq"
      },
      "source": [
        "4. Faça um Programa que peça as 4 notas bimestrais e mostre a média."
      ]
    },
    {
      "cell_type": "code",
      "execution_count": null,
      "metadata": {
        "id": "X1hkyMAdV3vk"
      },
      "outputs": [],
      "source": [
        "# Pedindo ao usuario para digitar 4 notas\n",
        "nota1 = int(input('Digite a primeiro nota: '))\n",
        "nota2 = int(input('Digite a segundo nota: '))\n",
        "nota3 = int(input('Digite a terceira nota: '))\n",
        "nota4 = int(input('Digite a quarta nota: '))\n",
        "\n",
        "# Retorna a media das notas bimestrais digitadas\n",
        "print(f'A média das notas é', (nota1+nota2+nota3+nota4)/4)"
      ]
    },
    {
      "cell_type": "markdown",
      "metadata": {
        "id": "W3gZQhM4V7JM"
      },
      "source": [
        "5. Faça um Programa que converta metros para centímetros."
      ]
    },
    {
      "cell_type": "code",
      "execution_count": 1,
      "metadata": {
        "id": "O_K_prwXV9ph"
      },
      "outputs": [
        {
          "name": "stdout",
          "output_type": "stream",
          "text": [
            "5160.0\n"
          ]
        }
      ],
      "source": [
        "# Pedindo ao usuario para digitar um valor em metros\n",
        "num = float(input('Digite o valor em metros: '))\n",
        "\n",
        "# Retorna o valor digitado convertido em metros\n",
        "print(num*100)"
      ]
    },
    {
      "cell_type": "markdown",
      "metadata": {
        "id": "WfsfnKc7WBwj"
      },
      "source": [
        "6. Faça um Programa que peça o raio de um círculo, calcule e mostre sua área."
      ]
    },
    {
      "cell_type": "code",
      "execution_count": null,
      "metadata": {
        "id": "gYU8iP0-WEu9"
      },
      "outputs": [],
      "source": [
        "from math import pi \n",
        "\n",
        "# Pedindo ao usuario para digitar o valor do raio\n",
        "raio = int(input('Digite o valor do raio: '))\n",
        "\n",
        "# Retorna e calcula o valor da area\n",
        "print(f'A área do círculo é igual a',pi * raio**2)"
      ]
    },
    {
      "cell_type": "markdown",
      "metadata": {
        "id": "TeZzPotSWKwy"
      },
      "source": [
        "7. Faça um Programa que calcule a área de um quadrado, em seguida mostre o dobro desta área para o usuário."
      ]
    },
    {
      "cell_type": "code",
      "execution_count": null,
      "metadata": {
        "id": "vIHG1_iOWMY3"
      },
      "outputs": [],
      "source": [
        "# Pedindo ao usuario para digitar o valor de um dos lados do quadrado\n",
        "sizeLado = int(input('Digite o valor de um dos lados do quadrado: '))\n",
        "\n",
        "# Calculando a area\n",
        "area = sizeLado * sizeLado\n",
        "\n",
        "# Retorna a area em dobro\n",
        "print(f'O dobro da área vale', area*2)"
      ]
    },
    {
      "cell_type": "markdown",
      "metadata": {
        "id": "cd82VwpLWY_R"
      },
      "source": [
        "8. Faça um Programa que pergunte quanto você ganha por hora e o número de horas trabalhadas no mês. Calcule e mostre o total do seu salário no referido mês."
      ]
    },
    {
      "cell_type": "code",
      "execution_count": 3,
      "metadata": {
        "colab": {
          "base_uri": "https://localhost:8080/"
        },
        "id": "4md6iprJWnOr",
        "outputId": "a16b7a0c-e760-4c5c-a930-ee298c2c96de"
      },
      "outputs": [
        {
          "name": "stdout",
          "output_type": "stream",
          "text": [
            "Digite o número de horas trabalhadas no mês: 20\n",
            "Digite o valor da hora trabalhada: 100\n",
            "O valor do salario é: R$ 2000.0\n"
          ]
        }
      ],
      "source": [
        "# Pedindo ao usuario para digitar o valor da hora e a quantidade de horas trabalhadas\n",
        "horasTrabalhadas = float(input('Digite o número de horas trabalhadas no mês: '))\n",
        "valorHora = float(input('Digite o valor da hora trabalhada: '))\n",
        "\n",
        "# Retorna o salário\n",
        "print(f'O valor do salario é: R$', horasTrabalhadas*valorHora)"
      ]
    },
    {
      "cell_type": "markdown",
      "metadata": {
        "id": "BcWnvyUwWfSR"
      },
      "source": [
        "9. Faça um Programa que peça a temperatura em graus Fahrenheit, transforme e mostre a temperatura em graus Celsius.\n",
        "\n",
        "C = 5 * ((F-32) / 9)."
      ]
    },
    {
      "cell_type": "code",
      "execution_count": null,
      "metadata": {
        "id": "bxkqabr9Wlko"
      },
      "outputs": [],
      "source": [
        "tempF = int(input('Digite o valor da temperatura em Fahrenheit: '))\n",
        "\n",
        "print(5* (tempF-32)/9)"
      ]
    },
    {
      "cell_type": "markdown",
      "metadata": {
        "id": "zQ485kQNfHKq"
      },
      "source": [
        "10. Faça um Programa que peça a temperatura em graus Celsius, transforme e mostre em graus Fahrenheit."
      ]
    },
    {
      "cell_type": "code",
      "execution_count": null,
      "metadata": {
        "id": "QnqwvY6tfOs3"
      },
      "outputs": [],
      "source": [
        "tempC = float(input('Digite o valor da temperatura em Celsius: '))\n",
        "\n",
        "print(tempC*(9/5)+32)"
      ]
    },
    {
      "cell_type": "markdown",
      "metadata": {
        "id": "_GVvZldlfSi3"
      },
      "source": [
        "11. Faça um Programa que peça 2 números inteiros e um número real. Calcule e mostre:\n",
        "- o produto do dobro do primeiro com metade do segundo .\n",
        "- a soma do triplo do primeiro com o terceiro.\n",
        "- o terceiro elevado ao cubo."
      ]
    },
    {
      "cell_type": "code",
      "execution_count": null,
      "metadata": {
        "id": "AfHXDcAOfZ8B"
      },
      "outputs": [],
      "source": [
        "num1 = int(input('Digite o primeiro número inteiro: '))\n",
        "num2 = int(input('Digite o segundo número inteiro: '))\n",
        "num3 = float(input('Agora digite o primeiro número real: '))\n",
        "\n",
        "print(f'o produto do dobro do primeiro com metade do segundo é', (2*num1) * (1/2*num2))\n",
        "print(f'a soma do triplo do primeiro com o terceiro', 3*num1 + num3)\n",
        "print(f'o terceiro elevado ao cubo vale', num3**3)"
      ]
    },
    {
      "cell_type": "markdown",
      "metadata": {
        "id": "t7KCxvjlfsnD"
      },
      "source": [
        "12. Tendo como dados de entrada a altura de uma pessoa, construa um algoritmo que calcule seu peso ideal, usando a seguinte fórmula: (72.7*altura) - 58"
      ]
    },
    {
      "cell_type": "code",
      "execution_count": null,
      "metadata": {
        "id": "S1UAsdn1fvQx"
      },
      "outputs": [],
      "source": [
        "altura = float(input('Digite sua altura: '))\n",
        "\n",
        "print(f'seu peso ideal é', (72.7*altura)-58)"
      ]
    },
    {
      "cell_type": "markdown",
      "metadata": {
        "id": "mwJyz-V9fywJ"
      },
      "source": [
        "13. Tendo como dado de entrada a altura (h) de uma pessoa, construa um algoritmo que calcule seu peso ideal, utilizando as seguintes fórmulas:\n",
        "- Para homens: (72.7*h) - 58\n",
        "- Para mulheres: (62.1*h) - 44.7"
      ]
    },
    {
      "cell_type": "code",
      "execution_count": null,
      "metadata": {
        "id": "P3sE8sTmf1mV"
      },
      "outputs": [],
      "source": [
        "altura = float(input('Digite sua altura: '))\n",
        "sexo = str(input('Digite seu sexo [M ou F]:'))\n",
        "\n",
        "pesoIdeal = (72.7*altura)-58 if sexo=='M' or sexo=='m' or sexo=='Masculino' or sexo=='masculino' else (62.1*altura)-44.7\n",
        "print(pesoIdeal)"
      ]
    },
    {
      "cell_type": "markdown",
      "metadata": {
        "id": "WOWWkAZGf45f"
      },
      "source": [
        "14. João Papo-de-Pescador, homem de bem, comprou um microcomputador para controlar o rendimento diário de seu trabalho. Toda vez que ele traz um peso de peixes maior que o estabelecido pelo regulamento de pesca do estado de São Paulo (50 quilos) deve pagar uma multa de R$ 4,00 por quilo excedente. João precisa que você faça um programa que leia a variável peso (peso de peixes) e calcule o excesso. Gravar na variável excesso a quantidade de quilos além do limite e na variável multa o valor da multa que João deverá pagar. Imprima os dados do programa com as mensagens adequadas."
      ]
    },
    {
      "cell_type": "code",
      "execution_count": null,
      "metadata": {
        "id": "yVQw9zfMgAhR"
      },
      "outputs": [],
      "source": [
        "# peso máximo da pesca de peixes estabelecido pelo regulamento de pesca do estado de São Paulo (50 quilos)\n",
        "pesoMax = 50\n",
        "# paga uma multa de R$ 4,00 por quilo excedente\n",
        "valorMulta = 4\n",
        "\n",
        "pesoPeixes = float(input('Digite o peso total da pesca em (K): '))\n",
        "\n",
        "excesso = 0 if pesoPeixes < pesoMax else pesoPeixes - pesoMax\n",
        "print(f'excesso de carga em (K):', excesso)\n",
        "multa = 0 if excesso==0 else excesso * 4\n",
        "print('O valor da multa a ser paga é de:', multa)"
      ]
    },
    {
      "cell_type": "markdown",
      "metadata": {
        "id": "PeafXTJugD7I"
      },
      "source": [
        "15. Faça um Programa que pergunte quanto você ganha por hora e o número de horas trabalhadas no mês. Calcule e mostre o total do seu salário no referido mês, sabendo-se que são descontados 11% para o Imposto de Renda, 8% para o INSS e 5% para o sindicato, faça um programa que nos dê:\n",
        "- salário bruto.\n",
        "- quanto pagou ao INSS.\n",
        "- quanto pagou ao sindicato.\n",
        "- o salário líquido.\n",
        "  - calcule os descontos e o salário líquido, conforme a tabela abaixo:\n",
        "    - +Salário Bruto : R$\n",
        "    - -IR (11%) : R$\n",
        "    - -INSS (8%) : R$\n",
        "    - -Sindicato ( 5%) : R$\n",
        "    - = Salário Liquido : R$\n",
        "\n",
        "Obs.: Salário Bruto - Descontos = Salário Líquido."
      ]
    },
    {
      "cell_type": "code",
      "execution_count": null,
      "metadata": {
        "id": "dgLSy5i5gG57"
      },
      "outputs": [],
      "source": [
        "valorHora = float(input('Digite quanto você ganha por hora: '))\n",
        "horasTrabalhadas = float(input('Número de horas trabalhadas no mês: '))\n",
        "\n",
        "salarioBruto = valorHora * horasTrabalhadas\n",
        "pagoIR = (salarioBruto*11)/100\n",
        "pagoINSS = (salarioBruto*8)/100\n",
        "pagoSindicato = (salarioBruto*5)/100\n",
        "salarioLiquido = salarioBruto - pagoIR - pagoINSS - pagoSindicato\n",
        "\n",
        "print(f'-'*40)\n",
        "print(f'Salário Bruto : R$ ', salarioBruto)\n",
        "print(f'Total pago ao INSS : R$', pagoINSS)\n",
        "print(f'Total pago ao IR : R$', pagoIR)\n",
        "print(f'Total pago ao sindicato : R$', pagoSindicato)\n",
        "print(f'-'*40)\n",
        "print(f'Salário Liquido : R$ ', salarioLiquido)\n"
      ]
    },
    {
      "cell_type": "markdown",
      "metadata": {
        "id": "BhuFMv9SgJ7h"
      },
      "source": [
        "16. Faça um programa para uma loja de tintas. O programa deverá pedir o tamanho em metros quadrados da área a ser pintada. Considere que a cobertura da tinta é de 1 litro para cada 3 metros quadrados e que a tinta é vendida em latas de 18 litros, que custam R$ 80,00. Informe ao usuário a quantidades de latas de tinta a serem compradas e o preço total."
      ]
    },
    {
      "cell_type": "code",
      "execution_count": null,
      "metadata": {
        "id": "j_rXeW6jgNeU"
      },
      "outputs": [],
      "source": [
        "area = float(input('Digite o tamanho em metros quadrados da área a ser pintada:' ))\n",
        "\n",
        "valorLata = 80\n",
        "litrosLata = 18\n",
        "\n",
        "# Para cada 3 m^2 é usado 1l de tinta\n",
        "litrosNecessarios= area/3\n",
        "print(f'litrosNecessarios: ',litrosNecessarios)\n",
        "#qntLatas = \n",
        "#precoTotal = valorLata * valorLata"
      ]
    },
    {
      "cell_type": "markdown",
      "metadata": {
        "id": "HZsBu7JFgQ9r"
      },
      "source": [
        "17. Faça um Programa para uma loja de tintas. O programa deverá pedir o tamanho em metros quadrados da área a ser pintada. Considere que a cobertura da tinta é de 1 litro para cada 6 metros quadrados e que a tinta é vendida em latas de 18 litros, que custam $80,00$ reais ou em galões de $3,6 litros$, que custam $25,00 reais$.\n",
        "Informe ao usuário as quantidades de tinta a serem compradas e os respectivos preços em 3 situações:\n",
        "  - comprar apenas latas de 18 litros;\n",
        "  - comprar apenas galões de 3,6 litros;\n",
        "  - misturar latas e galões, de forma que o desperdício de tinta seja menor. Acrescente 10% de folga e sempre arredonde os valores para cima, isto é, considere latas cheias."
      ]
    },
    {
      "cell_type": "code",
      "execution_count": null,
      "metadata": {
        "id": "jb-DpEF1gVh-"
      },
      "outputs": [],
      "source": [
        "area = float(input('Digite o tamanho em metros quadrados da área a ser pintada: '))\n",
        "\n",
        "\"\"\"\n",
        "[TO DO]\n",
        "\n",
        "- Fazer a lógica do problema.\n",
        "- Imprimir a quantidade de tinta a ser comprada pelo usuário.\n",
        "\"\"\""
      ]
    },
    {
      "cell_type": "markdown",
      "metadata": {
        "id": "ELnwSAVPgazE"
      },
      "source": [
        "18. Faça um programa que peça o tamanho de um arquivo para download (em MB) e a velocidade de um link de Internet (em Mbps), calcule e informe o tempo aproximado de download do arquivo usando este link (em minutos)."
      ]
    },
    {
      "cell_type": "code",
      "execution_count": 7,
      "metadata": {
        "colab": {
          "base_uri": "https://localhost:8080/"
        },
        "id": "OgPUbGvlghwf",
        "outputId": "501a88b2-c1c0-4717-a5b7-3c4027146ce3"
      },
      "outputs": [
        {
          "name": "stdout",
          "output_type": "stream",
          "text": [
            "Digite o tamanho de um arquivo para download em MB: 100\n",
            "Digite a velocidade de um link de Internet em Mbps: 14\n",
            "Tempo estimado de download em minutos: 7.14\n"
          ]
        }
      ],
      "source": [
        "sizeFile = float(input('Digite o tamanho de um arquivo para download em MB: '))\n",
        "velocidadeLink = float(input('Digite a velocidade de um link de Internet em Mbps: '))\n",
        "\n",
        "print('Tempo estimado de download em minutos:', round((sizeFile/velocidadeLink),2))"
      ]
    }
  ],
  "metadata": {
    "colab": {
      "provenance": []
    },
    "kernelspec": {
      "display_name": "Python 3",
      "language": "python",
      "name": "python3"
    },
    "language_info": {
      "codemirror_mode": {
        "name": "ipython",
        "version": 3
      },
      "file_extension": ".py",
      "mimetype": "text/x-python",
      "name": "python",
      "nbconvert_exporter": "python",
      "pygments_lexer": "ipython3",
      "version": "3.11.1"
    },
    "vscode": {
      "interpreter": {
        "hash": "81d28a13152a293fbc1e1ce9638b10606ffeb9163ab1c409c13da17243cf3afb"
      }
    }
  },
  "nbformat": 4,
  "nbformat_minor": 0
}
