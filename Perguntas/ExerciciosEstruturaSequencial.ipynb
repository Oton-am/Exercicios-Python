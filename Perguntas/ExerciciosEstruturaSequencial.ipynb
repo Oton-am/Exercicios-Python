{
  "nbformat": 4,
  "nbformat_minor": 0,
  "metadata": {
    "colab": {
      "provenance": []
    },
    "kernelspec": {
      "name": "python3",
      "display_name": "Python 3"
    },
    "language_info": {
      "name": "python"
    }
  },
  "cells": [
    {
      "cell_type": "markdown",
      "source": [
        "1. Faça um Programa que mostre a mensagem \"Alo mundo\" na tela."
      ],
      "metadata": {
        "id": "V9IHDgUukQSj"
      }
    },
    {
      "cell_type": "code",
      "source": [],
      "metadata": {
        "id": "1XSTgb14kQB5"
      },
      "execution_count": null,
      "outputs": []
    },
    {
      "cell_type": "markdown",
      "source": [
        "2. Faça um Programa que peça um número e então mostre a mensagem \"O número informado foi [número]\"."
      ],
      "metadata": {
        "id": "tUhFNntYkPn3"
      }
    },
    {
      "cell_type": "code",
      "source": [],
      "metadata": {
        "id": "ObvFXNuQkPZS"
      },
      "execution_count": null,
      "outputs": []
    },
    {
      "cell_type": "markdown",
      "source": [
        "3. Faça um Programa que peça dois números e imprima a soma."
      ],
      "metadata": {
        "id": "eZB-PZkPkPHV"
      }
    },
    {
      "cell_type": "code",
      "source": [],
      "metadata": {
        "id": "3CJdwo1lkO13"
      },
      "execution_count": null,
      "outputs": []
    },
    {
      "cell_type": "markdown",
      "source": [
        "4. Faça um Programa que peça as 4 notas bimestrais e mostre a média."
      ],
      "metadata": {
        "id": "M2TQQeYkkOKJ"
      }
    },
    {
      "cell_type": "code",
      "source": [],
      "metadata": {
        "id": "au1op-dkkNlE"
      },
      "execution_count": null,
      "outputs": []
    },
    {
      "cell_type": "markdown",
      "source": [
        "5. Faça um Programa que converta metros para centímetros."
      ],
      "metadata": {
        "id": "3HqErLnCkM-m"
      }
    },
    {
      "cell_type": "code",
      "source": [],
      "metadata": {
        "id": "4rqREoj7kMgN"
      },
      "execution_count": null,
      "outputs": []
    },
    {
      "cell_type": "markdown",
      "source": [
        "6. Faça um Programa que peça o raio de um círculo, calcule e mostre sua área."
      ],
      "metadata": {
        "id": "Q4i6jomXkkEW"
      }
    },
    {
      "cell_type": "code",
      "source": [],
      "metadata": {
        "id": "P9BImlytkkgf"
      },
      "execution_count": null,
      "outputs": []
    },
    {
      "cell_type": "markdown",
      "source": [
        "7. Faça um Programa que calcule a área de um quadrado, em seguida mostre o dobro desta área para o usuário."
      ],
      "metadata": {
        "id": "PouQDGeVkk83"
      }
    },
    {
      "cell_type": "code",
      "source": [],
      "metadata": {
        "id": "FGkNkstTklfO"
      },
      "execution_count": null,
      "outputs": []
    },
    {
      "cell_type": "markdown",
      "source": [
        "8. Faça um Programa que pergunte quanto você ganha por hora e o número de horas trabalhadas no mês. Calcule e mostre o total do seu salário no referido mês."
      ],
      "metadata": {
        "id": "zC3IvgY9kmD1"
      }
    },
    {
      "cell_type": "code",
      "source": [],
      "metadata": {
        "id": "jZZHKfc6ky7i"
      },
      "execution_count": null,
      "outputs": []
    },
    {
      "cell_type": "markdown",
      "source": [
        "9. Faça um Programa que peça a temperatura em graus Fahrenheit, transforme e mostre a temperatura em graus Celsius.\n",
        "\n",
        "C = 5 * ((F-32) / 9)."
      ],
      "metadata": {
        "id": "q9L6y0CSkv1o"
      }
    },
    {
      "cell_type": "code",
      "source": [],
      "metadata": {
        "id": "s9YkLI8hkwUo"
      },
      "execution_count": null,
      "outputs": []
    },
    {
      "cell_type": "markdown",
      "source": [
        "10. Faça um Programa que peça a temperatura em graus Celsius, transforme e mostre em graus Fahrenheit."
      ],
      "metadata": {
        "id": "4uyJxq7kkwtK"
      }
    },
    {
      "cell_type": "code",
      "source": [],
      "metadata": {
        "id": "BQ4k4wdvkxIu"
      },
      "execution_count": null,
      "outputs": []
    },
    {
      "cell_type": "markdown",
      "source": [
        "11. Faça um Programa que peça 2 números inteiros e um número real. Calcule e mostre:\n",
        "- o produto do dobro do primeiro com metade do segundo .\n",
        "- a soma do triplo do primeiro com o terceiro.\n",
        "- o terceiro elevado ao cubo."
      ],
      "metadata": {
        "id": "mLLbO9slkxov"
      }
    },
    {
      "cell_type": "code",
      "source": [],
      "metadata": {
        "id": "KvyGMtDclDuE"
      },
      "execution_count": null,
      "outputs": []
    },
    {
      "cell_type": "markdown",
      "source": [
        "12. Tendo como dados de entrada a altura de uma pessoa, construa um algoritmo que calcule seu peso ideal, usando a seguinte fórmula: (72.7*altura) - 58"
      ],
      "metadata": {
        "id": "zNObL_OqlELd"
      }
    },
    {
      "cell_type": "code",
      "source": [],
      "metadata": {
        "id": "D22kXIJolElK"
      },
      "execution_count": null,
      "outputs": []
    },
    {
      "cell_type": "markdown",
      "source": [
        "13. Tendo como dado de entrada a altura (h) de uma pessoa, construa um algoritmo que calcule seu peso ideal, utilizando as seguintes fórmulas:\n",
        "- Para homens: (72.7*h) - 58\n",
        "- Para mulheres: (62.1*h) - 44.7"
      ],
      "metadata": {
        "id": "Yu7BDloElGHG"
      }
    },
    {
      "cell_type": "code",
      "source": [],
      "metadata": {
        "id": "-rbv_ArxlGgm"
      },
      "execution_count": null,
      "outputs": []
    },
    {
      "cell_type": "markdown",
      "source": [
        "14. João Papo-de-Pescador, homem de bem, comprou um microcomputador para controlar o rendimento diário de seu trabalho. Toda vez que ele traz um peso de peixes maior que o estabelecido pelo regulamento de pesca do estado de São Paulo (50 quilos) deve pagar uma multa de R$ 4,00 por quilo excedente. João precisa que você faça um programa que leia a variável peso (peso de peixes) e calcule o excesso. Gravar na variável excesso a quantidade de quilos além do limite e na variável multa o valor da multa que João deverá pagar. Imprima os dados do programa com as mensagens adequadas."
      ],
      "metadata": {
        "id": "-bvJP7mwlG2b"
      }
    },
    {
      "cell_type": "code",
      "source": [],
      "metadata": {
        "id": "j8beTpDKlHNa"
      },
      "execution_count": null,
      "outputs": []
    },
    {
      "cell_type": "markdown",
      "source": [
        "15. Faça um Programa que pergunte quanto você ganha por hora e o número de horas trabalhadas no mês. Calcule e mostre o total do seu salário no referido mês, sabendo-se que são descontados 11% para o Imposto de Renda, 8% para o INSS e 5% para o sindicato, faça um programa que nos dê:\n",
        "- salário bruto.\n",
        "- quanto pagou ao INSS.\n",
        "- quanto pagou ao sindicato.\n",
        "- o salário líquido.\n",
        "  - calcule os descontos e o salário líquido, conforme a tabela abaixo:\n",
        "    - +Salário Bruto : R$\n",
        "    - -IR (11%) : R$\n",
        "    - -INSS (8%) : R$\n",
        "    - -Sindicato ( 5%) : R$\n",
        "    - = Salário Liquido : R$\n",
        "\n",
        "Obs.: Salário Bruto - Descontos = Salário Líquido."
      ],
      "metadata": {
        "id": "LEhjVrrKlHkl"
      }
    },
    {
      "cell_type": "code",
      "source": [],
      "metadata": {
        "id": "hcKBJC8LlIHt"
      },
      "execution_count": null,
      "outputs": []
    },
    {
      "cell_type": "markdown",
      "source": [
        "16. Faça um programa para uma loja de tintas. O programa deverá pedir o tamanho em metros quadrados da área a ser pintada. Considere que a cobertura da tinta é de 1 litro para cada 3 metros quadrados e que a tinta é vendida em latas de 18 litros, que custam R$ 80,00. Informe ao usuário a quantidades de latas de tinta a serem compradas e o preço total."
      ],
      "metadata": {
        "id": "Fo29nrf-lcz3"
      }
    },
    {
      "cell_type": "code",
      "source": [],
      "metadata": {
        "id": "4chI4x71ldII"
      },
      "execution_count": null,
      "outputs": []
    },
    {
      "cell_type": "markdown",
      "source": [
        "17. Faça um Programa para uma loja de tintas. O programa deverá pedir o tamanho em metros quadrados da área a ser pintada. Considere que a cobertura da tinta é de 1 litro para cada 6 metros quadrados e que a tinta é vendida em latas de 18 litros, que custam $80,00$ reais ou em galões de $3,6 litros$, que custam $25,00 reais$.\n",
        "Informe ao usuário as quantidades de tinta a serem compradas e os respectivos preços em 3 situações:\n",
        "  - comprar apenas latas de 18 litros;\n",
        "  - comprar apenas galões de 3,6 litros;\n",
        "  - misturar latas e galões, de forma que o desperdício de tinta seja menor. Acrescente 10% de folga e sempre arredonde os valores para cima, isto é, considere latas cheias."
      ],
      "metadata": {
        "id": "IL4SUKhildbM"
      }
    },
    {
      "cell_type": "code",
      "source": [],
      "metadata": {
        "id": "ElFeHX6vldyR"
      },
      "execution_count": null,
      "outputs": []
    },
    {
      "cell_type": "markdown",
      "source": [
        "18. Faça um programa que peça o tamanho de um arquivo para download (em MB) e a velocidade de um link de Internet (em Mbps), calcule e informe o tempo aproximado de download do arquivo usando este link (em minutos)."
      ],
      "metadata": {
        "id": "VMK4q0FvkHjb"
      }
    },
    {
      "cell_type": "code",
      "execution_count": null,
      "metadata": {
        "id": "Z8O2Swc2kGSR"
      },
      "outputs": [],
      "source": []
    }
  ]
}