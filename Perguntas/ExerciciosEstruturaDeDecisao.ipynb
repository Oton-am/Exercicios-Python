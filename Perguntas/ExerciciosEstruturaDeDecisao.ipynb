{
  "nbformat": 4,
  "nbformat_minor": 0,
  "metadata": {
    "colab": {
      "provenance": []
    },
    "kernelspec": {
      "name": "python3",
      "display_name": "Python 3"
    },
    "language_info": {
      "name": "python"
    }
  },
  "cells": [
    {
      "cell_type": "markdown",
      "source": [
        "## Estrutura de Decisão [if, elif e else]"
      ],
      "metadata": {
        "id": "NtV1b1fMmMwq"
      }
    },
    {
      "cell_type": "markdown",
      "source": [
        "1. Faça um Programa que peça dois números e imprima o maior deles."
      ],
      "metadata": {
        "id": "2AnMpP7Wm9oL"
      }
    },
    {
      "cell_type": "code",
      "execution_count": null,
      "metadata": {
        "id": "XxVOG93nmKDf"
      },
      "outputs": [],
      "source": []
    },
    {
      "cell_type": "markdown",
      "source": [
        "2. Faça um Programa que peça um valor e mostre na tela se o valor é positivo ou negativo."
      ],
      "metadata": {
        "id": "ddF0hGcanGhW"
      }
    },
    {
      "cell_type": "code",
      "source": [],
      "metadata": {
        "id": "myxJq3cJnIFE"
      },
      "execution_count": null,
      "outputs": []
    },
    {
      "cell_type": "markdown",
      "source": [
        "3. Faça um Programa que verifique se uma letra digitada é \"F\" ou \"M\". Conforme a letra escrever: F - Feminino, M - Masculino, Sexo Inválido"
      ],
      "metadata": {
        "id": "pkM_jNldnIcD"
      }
    },
    {
      "cell_type": "code",
      "source": [],
      "metadata": {
        "id": "EXatZzA9nPqY"
      },
      "execution_count": null,
      "outputs": []
    },
    {
      "cell_type": "markdown",
      "source": [
        "4. Faça um Programa que verifique se uma letra digitada é vogal ou consoante.\n"
      ],
      "metadata": {
        "id": "mgzaBGmrnQIz"
      }
    },
    {
      "cell_type": "code",
      "source": [],
      "metadata": {
        "id": "BkojvRLTnZRc"
      },
      "execution_count": null,
      "outputs": []
    },
    {
      "cell_type": "markdown",
      "source": [
        "5. Faça um programa para a leitura de duas notas parciais de um aluno. O programa deve calcular a média alcançada por aluno e apresentar:\n",
        "- A mensagem \"Aprovado\", se a média alcançada for maior ou igual a sete;\n",
        "- A mensagem \"Reprovado\", se a média for menor do que sete;\n",
        "- A mensagem \"Aprovado com Distinção\", se a média for igual a dez."
      ],
      "metadata": {
        "id": "0s1DbD23nlCx"
      }
    },
    {
      "cell_type": "code",
      "source": [],
      "metadata": {
        "id": "IwQil5jEnrKy"
      },
      "execution_count": null,
      "outputs": []
    },
    {
      "cell_type": "markdown",
      "source": [
        "6. Faça um Programa que leia três números e mostre o maior deles."
      ],
      "metadata": {
        "id": "7m20xXgLnro6"
      }
    },
    {
      "cell_type": "code",
      "source": [],
      "metadata": {
        "id": "Z03o6ghgn0i0"
      },
      "execution_count": null,
      "outputs": []
    },
    {
      "cell_type": "markdown",
      "source": [
        "7. Faça um Programa que leia três números e mostre o maior e o menor deles."
      ],
      "metadata": {
        "id": "Ju8-dt_zn17y"
      }
    },
    {
      "cell_type": "code",
      "source": [],
      "metadata": {
        "id": "8e0KpyG9oBY0"
      },
      "execution_count": null,
      "outputs": []
    },
    {
      "cell_type": "markdown",
      "source": [
        "8. Faça um programa que pergunte o preço de três produtos e informe qual produto você deve comprar, sabendo que a decisão é sempre pelo mais barato."
      ],
      "metadata": {
        "id": "4t-AjAKQoB_m"
      }
    },
    {
      "cell_type": "code",
      "source": [],
      "metadata": {
        "id": "wMStZCW1oKLE"
      },
      "execution_count": null,
      "outputs": []
    },
    {
      "cell_type": "markdown",
      "source": [
        "9. Faça um Programa que leia três números e mostre-os em ordem decrescente."
      ],
      "metadata": {
        "id": "JgddizjgoKwE"
      }
    },
    {
      "cell_type": "code",
      "source": [],
      "metadata": {
        "id": "dTxLVBTeoRzK"
      },
      "execution_count": null,
      "outputs": []
    },
    {
      "cell_type": "markdown",
      "source": [
        "10. Faça um Programa que pergunte em que turno você estuda. Peça para digitar M-matutino ou V-Vespertino ou N- Noturno. Imprima a mensagem \"Bom Dia!\", \"Boa Tarde!\" ou \"Boa Noite!\" ou \"Valor Inválido!\", conforme o caso."
      ],
      "metadata": {
        "id": "ZfEt3evsodBH"
      }
    },
    {
      "cell_type": "code",
      "source": [],
      "metadata": {
        "id": "A185fdIeoegW"
      },
      "execution_count": null,
      "outputs": []
    },
    {
      "cell_type": "markdown",
      "source": [
        "11. As Organizações Tabajara resolveram dar um aumento de salário aos seus colaboradores e lhe contraram para desenvolver o programa que calculará os reajustes.\n",
        "Faça um programa que recebe o salário de um colaborador e o reajuste segundo o seguinte critério, baseado no salário atual:\n",
        "- salários até $RS 280,00$ (incluindo) : aumento de 20%\n",
        "- salários entre $RS 280,00$ e $RS 700,00$ : aumento de 15%\n",
        "- salários entre $RS 700,00$ e $RS 1500,00$ : aumento de 10%\n",
        "- salários de R$ 1500,00 em diante : aumento de 5% Após o aumento ser - realizado, informe na tela:\n",
        "  - o salário antes do reajuste;\n",
        "  - o percentual de aumento aplicado;\n",
        "  - o valor do aumento;\n",
        "  - o novo salário, após o aumento."
      ],
      "metadata": {
        "id": "uHkOIh7sofAX"
      }
    },
    {
      "cell_type": "code",
      "source": [],
      "metadata": {
        "id": "-G-AIq4zopM8"
      },
      "execution_count": null,
      "outputs": []
    },
    {
      "cell_type": "markdown",
      "source": [
        "12. Faça um programa para o cálculo de uma folha de pagamento, sabendo que os descontos são do Imposto de Renda, que depende do salário bruto (conforme tabela abaixo) e 3% para o Sindicato e que o FGTS corresponde a 11% do Salário Bruto, mas não é descontado (é a empresa que deposita). O Salário Líquido corresponde ao Salário Bruto menos os descontos. O programa deverá pedir ao usuário o valor da sua hora e a quantidade de horas trabalhadas no mês.\n",
        "Desconto do IR:\n",
        "- Salário Bruto até 900 (inclusive) - isento\n",
        "- Salário Bruto até 1500 (inclusive) - desconto de 5%\n",
        "- Salário Bruto até 2500 (inclusive) - desconto de 10%\n",
        "- Salário Bruto acima de 2500 - desconto de 20% Imprima na tela as informações, dispostas conforme o exemplo abaixo. No exemplo o valor da hora é 5 e a quantidade de hora é 220.\n",
        "\n",
        "        Salário Bruto: (5 * 220)        : R$ 1100,00\n",
        "        (-) IR (5%)                     : R$   55,00  \n",
        "        (-) INSS ( 10%)                 : R$  110,00\n",
        "        FGTS (11%)                      : R$  121,00\n",
        "        Total de descontos              : R$  165,00\n",
        "        Salário Liquido                 : R$  935,00"
      ],
      "metadata": {
        "id": "1_dtZqwWopm8"
      }
    },
    {
      "cell_type": "code",
      "source": [],
      "metadata": {
        "id": "uqkuuM72o2lm"
      },
      "execution_count": null,
      "outputs": []
    },
    {
      "cell_type": "markdown",
      "source": [
        "13. Faça um Programa que leia um número e exiba o dia correspondente da semana. (1-Domingo, 2- Segunda, etc.), se digitar outro valor deve aparecer valor inválido."
      ],
      "metadata": {
        "id": "KqrjeJixo3DA"
      }
    },
    {
      "cell_type": "code",
      "source": [],
      "metadata": {
        "id": "-LPiNkyQpA3Z"
      },
      "execution_count": null,
      "outputs": []
    },
    {
      "cell_type": "markdown",
      "source": [
        "14. Faça um programa que lê as duas notas parciais obtidas por um aluno numa disciplina ao longo de um semestre, e calcule a sua média. A atribuição de conceitos obedece à tabela abaixo:\n",
        "\n",
        "```\n",
        "   Média de Aproveitamento  Conceito\n",
        "  Entre 9.0 e 10.0        A\n",
        "  Entre 7.5 e 9.0         B\n",
        "  Entre 6.0 e 7.5         C\n",
        "  Entre 4.0 e 6.0         D\n",
        "  Entre 4.0 e zero        E\n",
        "```\n",
        "\n",
        "O algoritmo deve mostrar na tela as notas, a média, o conceito correspondente e a mensagem “APROVADO” se o conceito for A, B ou C ou “REPROVADO” se o conceito for D ou E.\n",
        "\n",
        "\n"
      ],
      "metadata": {
        "id": "ogOxFrC0pBMx"
      }
    },
    {
      "cell_type": "code",
      "source": [],
      "metadata": {
        "id": "TPYrQ48lpL8-"
      },
      "execution_count": null,
      "outputs": []
    },
    {
      "cell_type": "markdown",
      "source": [
        "15. Faça um Programa que peça os 3 lados de um triângulo. O programa deverá informar se os valores podem ser um triângulo. Indique, caso os lados formem um triângulo, se o mesmo é: equilátero, isósceles ou escaleno.\n",
        "Dicas:\n",
        "- Três lados formam um triângulo quando a soma de quaisquer dois lados for maior que o terceiro;\n",
        "- Triângulo Equilátero: três lados iguais;\n",
        "- Triângulo Isósceles: quaisquer dois lados iguais;\n",
        "- Triângulo Escaleno: três lados diferentes;"
      ],
      "metadata": {
        "id": "Z8U1NTHhpTS1"
      }
    },
    {
      "cell_type": "code",
      "source": [],
      "metadata": {
        "id": "MkcYbNL8pZBG"
      },
      "execution_count": null,
      "outputs": []
    },
    {
      "cell_type": "markdown",
      "source": [
        "16. Faça um programa que calcule as raízes de uma equação do segundo grau, na forma ax2 + bx + c. O programa deverá pedir os valores de a, b e c e fazer as consistências, informando ao usuário nas seguintes situações:\n",
        "- Se o usuário informar o valor de A igual a zero, a equação não é do segundo grau e o programa não deve fazer pedir os demais valores, sendo encerrado;\n",
        "- Se o delta calculado for negativo, a equação não possui raizes reais. Informe ao usuário e encerre o programa;\n",
        "- Se o delta calculado for igual a zero a equação possui apenas uma raiz real; informe-a ao usuário;\n",
        "- Se o delta for positivo, a equação possui duas raiz reais; informe-as ao usuário;"
      ],
      "metadata": {
        "id": "HVtEmWWTpZdc"
      }
    },
    {
      "cell_type": "code",
      "source": [],
      "metadata": {
        "id": "sIcC61Vqpvf2"
      },
      "execution_count": null,
      "outputs": []
    },
    {
      "cell_type": "markdown",
      "source": [
        "17. Faça um Programa que peça um número correspondente a um determinado ano e em seguida informe se este ano é ou não bissexto."
      ],
      "metadata": {
        "id": "gvhhmzAEpv-x"
      }
    },
    {
      "cell_type": "code",
      "source": [],
      "metadata": {
        "id": "AfyrmQPYqZhQ"
      },
      "execution_count": null,
      "outputs": []
    },
    {
      "cell_type": "markdown",
      "source": [
        "18. Faça um Programa que peça uma data no formato dd/mm/aaaa e determine se a mesma é uma data válida."
      ],
      "metadata": {
        "id": "ywT751iwqaHg"
      }
    },
    {
      "cell_type": "code",
      "source": [],
      "metadata": {
        "id": "1jaxxi1_qgae"
      },
      "execution_count": null,
      "outputs": []
    },
    {
      "cell_type": "markdown",
      "source": [
        "19. Faça um Programa que leia um número inteiro menor que 1000 e imprima a quantidade de centenas, dezenas e unidades do mesmo.\n",
        "Observando os termos no plural a colocação do \"e\", da vírgula entre outros. Exemplo:\n",
        "- 326 = 3 centenas, 2 dezenas e 6 unidades\n",
        "- 12 = 1 dezena e 2 unidades Testar com: 326, 300, 100, 320, 310,305, 301, 101, 311, 111, 25, 20, 10, 21, 11, 1, 7 e 16"
      ],
      "metadata": {
        "id": "gVBCzncdqg0f"
      }
    },
    {
      "cell_type": "code",
      "source": [],
      "metadata": {
        "id": "9c1-RfNnqpe9"
      },
      "execution_count": null,
      "outputs": []
    },
    {
      "cell_type": "markdown",
      "source": [
        "20. Faça um Programa para leitura de três notas parciais de um aluno. O programa deve calcular a média alcançada por aluno e presentar:\n",
        "- A mensagem \"Aprovado\", se a média for maior ou igual a 7, com a respectiva média alcançada;\n",
        "- A mensagem \"Reprovado\", se a média for menor do que 7, com a respectiva média alcançada;\n",
        "- A mensagem \"Aprovado com Distinção\", se a média for igual a 10."
      ],
      "metadata": {
        "id": "nNxuINcXqp4N"
      }
    },
    {
      "cell_type": "code",
      "source": [],
      "metadata": {
        "id": "Rox5aqvqq9Xx"
      },
      "execution_count": null,
      "outputs": []
    },
    {
      "cell_type": "markdown",
      "source": [
        "21. Faça um Programa para um caixa eletrônico. O programa deverá perguntar ao usuário a valor do saque e depois informar quantas notas de cada valor serão fornecidas. As notas disponíveis serão as de 1, 5, 10, 50 e 100 reais. O valor mínimo é de 10 reais e o máximo de 600 reais. O programa não deve se preocupar com a quantidade de notas existentes na máquina.\n",
        "- Exemplo 1: Para sacar a quantia de 256 reais, o programa fornece duas notas de 100, uma nota de 50, uma nota de 5 e uma nota de 1;\n",
        "- Exemplo 2: Para sacar a quantia de 399 reais, o programa fornece três notas de 100, uma nota de 50, quatro notas de 10, uma nota de 5 e quatro notas de 1."
      ],
      "metadata": {
        "id": "OQCWLuLRq-MJ"
      }
    },
    {
      "cell_type": "code",
      "source": [],
      "metadata": {
        "id": "KICpQCOerIU0"
      },
      "execution_count": null,
      "outputs": []
    },
    {
      "cell_type": "markdown",
      "source": [
        "22. Faça um Programa que peça um número inteiro e determine se ele é par ou impar. Dica: utilize o operador módulo (resto da divisão)."
      ],
      "metadata": {
        "id": "rDBCwhRqrI27"
      }
    },
    {
      "cell_type": "code",
      "source": [],
      "metadata": {
        "id": "hYWU6bD7rZOJ"
      },
      "execution_count": null,
      "outputs": []
    },
    {
      "cell_type": "markdown",
      "source": [
        "23. Faça um Programa que peça um número e informe se o número é inteiro ou decimal. Dica: utilize uma função de arredondamento."
      ],
      "metadata": {
        "id": "tVCifZs3rZqz"
      }
    },
    {
      "cell_type": "code",
      "source": [],
      "metadata": {
        "id": "mE2bmJM2riih"
      },
      "execution_count": null,
      "outputs": []
    },
    {
      "cell_type": "markdown",
      "source": [
        "24. Faça um Programa que leia 2 números e em seguida pergunte ao usuário qual operação ele deseja realizar. O resultado da operação deve ser acompanhado de uma frase que diga se o número é:\n",
        "- par ou ímpar;\n",
        "- positivo ou negativo;\n",
        "- inteiro ou decimal."
      ],
      "metadata": {
        "id": "PChpgKUQrmz3"
      }
    },
    {
      "cell_type": "code",
      "source": [],
      "metadata": {
        "id": "Fe2bbFf7rxJP"
      },
      "execution_count": null,
      "outputs": []
    },
    {
      "cell_type": "markdown",
      "source": [
        "25. Faça um programa que faça 5 perguntas para uma pessoa sobre um crime. As perguntas são:\n",
        "- \"Telefonou para a vítima?\"\n",
        "- \"Esteve no local do crime?\"\n",
        "- \"Mora perto da vítima?\"\n",
        "- \"Devia para a vítima?\"\n",
        "- \"Já trabalhou com a vítima?\" \n",
        "\n",
        "O programa deve no final emitir uma classificação sobre a participação da pessoa no crime. Se a pessoa responder positivamente a 2 questões ela deve ser classificada como \"Suspeita\", entre 3 e 4 como \"Cúmplice\" e 5 como \"Assassino\". Caso contrário, ele será classificado como \"Inocente\"."
      ],
      "metadata": {
        "id": "u2x-k2W8rxgr"
      }
    },
    {
      "cell_type": "code",
      "source": [],
      "metadata": {
        "id": "yZmU3vilr_Ie"
      },
      "execution_count": null,
      "outputs": []
    },
    {
      "cell_type": "markdown",
      "source": [
        "26. Um posto está vendendo combustíveis com a seguinte tabela de descontos:\n",
        "- Álcool:\n",
        "  - até 20 litros, desconto de 3% por litro\n",
        "  - acima de 20 litros, desconto de 5% por litro\n",
        "- Gasolina:\n",
        "  - até 20 litros, desconto de 4% por litro\n",
        "  - acima de 20 litros, desconto de 6% por litro \n",
        "  \n",
        "  Escreva um algoritmo que leia o número de litros vendidos, o tipo de combustível (codificado da seguinte forma: A-álcool, G-gasolina), calcule e imprima o valor a ser pago pelo cliente sabendo-se que o preço do litro da gasolina é $RS 2,50$ o preço do litro do álcool é $RS 1,90$."
      ],
      "metadata": {
        "id": "4fC8njelr_fR"
      }
    },
    {
      "cell_type": "code",
      "source": [],
      "metadata": {
        "id": "MyXTZ-absI23"
      },
      "execution_count": null,
      "outputs": []
    },
    {
      "cell_type": "markdown",
      "source": [
        "27. Uma fruteira está vendendo frutas com a seguinte tabela de preços:\n",
        "\n",
        "\n",
        "\n",
        "```\n",
        "                      Até 5 Kg           Acima de 5 Kg\n",
        "Morango         R$ 2,50 por Kg          R$ 2,20 por Kg\n",
        "Maçã            R$ 1,80 por Kg          R$ 1,50 por Kg\n",
        "```\n",
        "\n",
        "Se o cliente comprar mais de 8 Kg em frutas ou o valor total da compra ultrapassar R$ 25,00, receberá ainda um desconto de 10% sobre este total. Escreva um algoritmo para ler a quantidade (em Kg) de morangos e a quantidade (em Kg) de maças adquiridas e escreva o valor a ser pago pelo cliente."
      ],
      "metadata": {
        "id": "o8WzqoGUsJWo"
      }
    },
    {
      "cell_type": "code",
      "source": [],
      "metadata": {
        "id": "t_79ptI6sVX-"
      },
      "execution_count": null,
      "outputs": []
    },
    {
      "cell_type": "markdown",
      "source": [
        "28. O Hipermercado Tabajara está com uma promoção de carnes que é imperdível. Confira:\n",
        "\n",
        "```\n",
        "                      Até 5 Kg           Acima de 5 Kg\n",
        "File Duplo      R$ 4,90 por Kg          R$ 5,80 por Kg\n",
        "Alcatra         R$ 5,90 por Kg          R$ 6,80 por Kg\n",
        "Picanha         R$ 6,90 por Kg          R$ 7,80 por Kg\n",
        "```\n",
        "\n",
        "Para atender a todos os clientes, cada cliente poderá levar apenas um dos tipos de carne da promoção, porém não há limites para a quantidade de carne por cliente. Se compra for feita no cartão Tabajara o cliente receberá ainda um desconto de 5% sobre o total da compra. Escreva um programa que peça o tipo e a quantidade de carne comprada pelo usuário e gere um cupom fiscal, contendo as informações da compra: tipo e quantidade de carne, preço total, tipo de pagamento, valor do desconto e valor a pagar."
      ],
      "metadata": {
        "id": "Za812LHBsVyy"
      }
    },
    {
      "cell_type": "code",
      "source": [],
      "metadata": {
        "id": "iJCceAvxsuhA"
      },
      "execution_count": null,
      "outputs": []
    }
  ]
}